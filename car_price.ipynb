{
 "cells": [
  {
   "cell_type": "markdown",
   "id": "c4fea2bb",
   "metadata": {},
   "source": [
    "# Car Price Prediction\n",
    "###  Objectives\n",
    "\n",
    "* Loading the data\n",
    "* Preprocessing the data\n",
    "* Explore features or charecteristics to predict price of car\n",
    "* Develop prediction models\n",
    "* Evaluate and refine prediction model"
   ]
  },
  {
   "cell_type": "code",
   "execution_count": 2,
   "id": "d349ff42",
   "metadata": {},
   "outputs": [],
   "source": [
    "# import some packages I need it\n",
    "import pandas as pd\n",
    "import numpy as np\n",
    "import matplotlib.pyplot as plt\n",
    "import seaborn as sns\n",
    "from scipy import stats\n",
    "from sklearn.linear_model import LinearRegression\n",
    "from sklearn.preprocessing import PolynomialFeatures\n",
    "from sklearn.model_selection import train_test_split\n",
    "from sklearn.metrics import r2_score\n",
    "from sklearn.pipeline import Pipeline\n",
    "from sklearn.preprocessing import StandardScaler\n",
    "from sklearn.metrics import mean_squared_error"
   ]
  },
  {
   "cell_type": "code",
   "execution_count": 3,
   "id": "5e39f6f1",
   "metadata": {},
   "outputs": [],
   "source": [
    "# load data\n",
    "df = pd.read_csv('Car details v3.csv')"
   ]
  },
  {
   "cell_type": "markdown",
   "id": "75f724b9",
   "metadata": {},
   "source": [
    "# EDA For Car details V3"
   ]
  },
  {
   "cell_type": "code",
   "execution_count": 4,
   "id": "2c710f79",
   "metadata": {},
   "outputs": [
    {
     "data": {
      "text/html": [
       "<div>\n",
       "<style scoped>\n",
       "    .dataframe tbody tr th:only-of-type {\n",
       "        vertical-align: middle;\n",
       "    }\n",
       "\n",
       "    .dataframe tbody tr th {\n",
       "        vertical-align: top;\n",
       "    }\n",
       "\n",
       "    .dataframe thead th {\n",
       "        text-align: right;\n",
       "    }\n",
       "</style>\n",
       "<table border=\"1\" class=\"dataframe\">\n",
       "  <thead>\n",
       "    <tr style=\"text-align: right;\">\n",
       "      <th></th>\n",
       "      <th>name</th>\n",
       "      <th>year</th>\n",
       "      <th>selling_price</th>\n",
       "      <th>km_driven</th>\n",
       "      <th>fuel</th>\n",
       "      <th>seller_type</th>\n",
       "      <th>transmission</th>\n",
       "      <th>owner</th>\n",
       "      <th>mileage</th>\n",
       "      <th>engine</th>\n",
       "      <th>max_power</th>\n",
       "      <th>torque</th>\n",
       "      <th>seats</th>\n",
       "    </tr>\n",
       "  </thead>\n",
       "  <tbody>\n",
       "    <tr>\n",
       "      <th>0</th>\n",
       "      <td>Maruti Swift Dzire VDI</td>\n",
       "      <td>2014</td>\n",
       "      <td>450000</td>\n",
       "      <td>145500</td>\n",
       "      <td>Diesel</td>\n",
       "      <td>Individual</td>\n",
       "      <td>Manual</td>\n",
       "      <td>First Owner</td>\n",
       "      <td>23.4 kmpl</td>\n",
       "      <td>1248 CC</td>\n",
       "      <td>74 bhp</td>\n",
       "      <td>190Nm@ 2000rpm</td>\n",
       "      <td>5.0</td>\n",
       "    </tr>\n",
       "    <tr>\n",
       "      <th>1</th>\n",
       "      <td>Skoda Rapid 1.5 TDI Ambition</td>\n",
       "      <td>2014</td>\n",
       "      <td>370000</td>\n",
       "      <td>120000</td>\n",
       "      <td>Diesel</td>\n",
       "      <td>Individual</td>\n",
       "      <td>Manual</td>\n",
       "      <td>Second Owner</td>\n",
       "      <td>21.14 kmpl</td>\n",
       "      <td>1498 CC</td>\n",
       "      <td>103.52 bhp</td>\n",
       "      <td>250Nm@ 1500-2500rpm</td>\n",
       "      <td>5.0</td>\n",
       "    </tr>\n",
       "    <tr>\n",
       "      <th>2</th>\n",
       "      <td>Honda City 2017-2020 EXi</td>\n",
       "      <td>2006</td>\n",
       "      <td>158000</td>\n",
       "      <td>140000</td>\n",
       "      <td>Petrol</td>\n",
       "      <td>Individual</td>\n",
       "      <td>Manual</td>\n",
       "      <td>Third Owner</td>\n",
       "      <td>17.7 kmpl</td>\n",
       "      <td>1497 CC</td>\n",
       "      <td>78 bhp</td>\n",
       "      <td>12.7@ 2,700(kgm@ rpm)</td>\n",
       "      <td>5.0</td>\n",
       "    </tr>\n",
       "    <tr>\n",
       "      <th>3</th>\n",
       "      <td>Hyundai i20 Sportz Diesel</td>\n",
       "      <td>2010</td>\n",
       "      <td>225000</td>\n",
       "      <td>127000</td>\n",
       "      <td>Diesel</td>\n",
       "      <td>Individual</td>\n",
       "      <td>Manual</td>\n",
       "      <td>First Owner</td>\n",
       "      <td>23.0 kmpl</td>\n",
       "      <td>1396 CC</td>\n",
       "      <td>90 bhp</td>\n",
       "      <td>22.4 kgm at 1750-2750rpm</td>\n",
       "      <td>5.0</td>\n",
       "    </tr>\n",
       "    <tr>\n",
       "      <th>4</th>\n",
       "      <td>Maruti Swift VXI BSIII</td>\n",
       "      <td>2007</td>\n",
       "      <td>130000</td>\n",
       "      <td>120000</td>\n",
       "      <td>Petrol</td>\n",
       "      <td>Individual</td>\n",
       "      <td>Manual</td>\n",
       "      <td>First Owner</td>\n",
       "      <td>16.1 kmpl</td>\n",
       "      <td>1298 CC</td>\n",
       "      <td>88.2 bhp</td>\n",
       "      <td>11.5@ 4,500(kgm@ rpm)</td>\n",
       "      <td>5.0</td>\n",
       "    </tr>\n",
       "  </tbody>\n",
       "</table>\n",
       "</div>"
      ],
      "text/plain": [
       "                           name  year  selling_price  km_driven    fuel  \\\n",
       "0        Maruti Swift Dzire VDI  2014         450000     145500  Diesel   \n",
       "1  Skoda Rapid 1.5 TDI Ambition  2014         370000     120000  Diesel   \n",
       "2      Honda City 2017-2020 EXi  2006         158000     140000  Petrol   \n",
       "3     Hyundai i20 Sportz Diesel  2010         225000     127000  Diesel   \n",
       "4        Maruti Swift VXI BSIII  2007         130000     120000  Petrol   \n",
       "\n",
       "  seller_type transmission         owner     mileage   engine   max_power  \\\n",
       "0  Individual       Manual   First Owner   23.4 kmpl  1248 CC      74 bhp   \n",
       "1  Individual       Manual  Second Owner  21.14 kmpl  1498 CC  103.52 bhp   \n",
       "2  Individual       Manual   Third Owner   17.7 kmpl  1497 CC      78 bhp   \n",
       "3  Individual       Manual   First Owner   23.0 kmpl  1396 CC      90 bhp   \n",
       "4  Individual       Manual   First Owner   16.1 kmpl  1298 CC    88.2 bhp   \n",
       "\n",
       "                     torque  seats  \n",
       "0            190Nm@ 2000rpm    5.0  \n",
       "1       250Nm@ 1500-2500rpm    5.0  \n",
       "2     12.7@ 2,700(kgm@ rpm)    5.0  \n",
       "3  22.4 kgm at 1750-2750rpm    5.0  \n",
       "4     11.5@ 4,500(kgm@ rpm)    5.0  "
      ]
     },
     "execution_count": 4,
     "metadata": {},
     "output_type": "execute_result"
    }
   ],
   "source": [
    "#show the first rows in dataset\n",
    "df.head()"
   ]
  },
  {
   "cell_type": "code",
   "execution_count": 5,
   "id": "5e63c774",
   "metadata": {},
   "outputs": [
    {
     "name": "stdout",
     "output_type": "stream",
     "text": [
      "<class 'pandas.core.frame.DataFrame'>\n",
      "RangeIndex: 8128 entries, 0 to 8127\n",
      "Data columns (total 13 columns):\n",
      " #   Column         Non-Null Count  Dtype  \n",
      "---  ------         --------------  -----  \n",
      " 0   name           8128 non-null   object \n",
      " 1   year           8128 non-null   int64  \n",
      " 2   selling_price  8128 non-null   int64  \n",
      " 3   km_driven      8128 non-null   int64  \n",
      " 4   fuel           8128 non-null   object \n",
      " 5   seller_type    8128 non-null   object \n",
      " 6   transmission   8128 non-null   object \n",
      " 7   owner          8128 non-null   object \n",
      " 8   mileage        7907 non-null   object \n",
      " 9   engine         7907 non-null   object \n",
      " 10  max_power      7913 non-null   object \n",
      " 11  torque         7906 non-null   object \n",
      " 12  seats          7907 non-null   float64\n",
      "dtypes: float64(1), int64(3), object(9)\n",
      "memory usage: 825.6+ KB\n"
     ]
    }
   ],
   "source": [
    "#show some information about data\n",
    "df.info()"
   ]
  },
  {
   "cell_type": "code",
   "execution_count": 6,
   "id": "6800a9e0",
   "metadata": {},
   "outputs": [
    {
     "data": {
      "text/plain": [
       "name               0\n",
       "year               0\n",
       "selling_price      0\n",
       "km_driven          0\n",
       "fuel               0\n",
       "seller_type        0\n",
       "transmission       0\n",
       "owner              0\n",
       "mileage          221\n",
       "engine           221\n",
       "max_power        215\n",
       "torque           222\n",
       "seats            221\n",
       "dtype: int64"
      ]
     },
     "execution_count": 6,
     "metadata": {},
     "output_type": "execute_result"
    }
   ],
   "source": [
    "#show null values in dataset\n",
    "df.isnull().sum()"
   ]
  },
  {
   "cell_type": "code",
   "execution_count": 7,
   "id": "8686eaf2",
   "metadata": {},
   "outputs": [
    {
     "data": {
      "text/plain": [
       "array(['190Nm@ 2000rpm', '250Nm@ 1500-2500rpm', '12.7@ 2,700(kgm@ rpm)',\n",
       "       '22.4 kgm at 1750-2750rpm', '11.5@ 4,500(kgm@ rpm)',\n",
       "       '113.75nm@ 4000rpm', '7.8@ 4,500(kgm@ rpm)', '59Nm@ 2500rpm',\n",
       "       '170Nm@ 1800-2400rpm', '160Nm@ 2000rpm', '248Nm@ 2250rpm',\n",
       "       '78Nm@ 4500rpm', nan, '84Nm@ 3500rpm', '115Nm@ 3500-3600rpm',\n",
       "       '200Nm@ 1750rpm', '62Nm@ 3000rpm', '219.7Nm@ 1500-2750rpm',\n",
       "       '114Nm@ 3500rpm', '115Nm@ 4000rpm', '69Nm@ 3500rpm',\n",
       "       '172.5Nm@ 1750rpm', '6.1kgm@ 3000rpm', '114.7Nm@ 4000rpm',\n",
       "       '60Nm@ 3500rpm', '90Nm@ 3500rpm', '151Nm@ 4850rpm',\n",
       "       '104Nm@ 4000rpm', '320Nm@ 1700-2700rpm', '250Nm@ 1750-2500rpm',\n",
       "       '145Nm@ 4600rpm', '146Nm@ 4800rpm', '343Nm@ 1400-3400rpm',\n",
       "       '200Nm@ 1400-3400rpm', '200Nm@ 1250-4000rpm',\n",
       "       '400Nm@ 2000-2500rpm', '138Nm@ 4400rpm', '360Nm@ 1200-3400rpm',\n",
       "       '200Nm@ 1200-3600rpm', '380Nm@ 1750-2500rpm', '173Nm@ 4000rpm',\n",
       "       '400Nm@ 1750-3000rpm', '400Nm@ 1400-2800rpm',\n",
       "       '200Nm@ 1750-3000rpm', '111.7Nm@ 4000rpm', '219.6Nm@ 1500-2750rpm',\n",
       "       '112Nm@ 4000rpm', '250Nm@ 1500-3000rpm', '130Nm@ 4000rpm',\n",
       "       '205Nm@ 1750-3250rpm', '280Nm@ 1350-4600rpm', '99.04Nm@ 4500rpm',\n",
       "       '77Nm@ 3500rpm', '110Nm@ 3750rpm', '153Nm@ 3800rpm',\n",
       "       '113.7Nm@ 4000rpm', '114Nm@ 4000rpm', '113Nm@ 4200rpm',\n",
       "       '101Nm@ 3000rpm', '290Nm@ 1800-2800rpm', '120Nm@ 4250rpm',\n",
       "       '250Nm@ 1500~4500rpm', '96 Nm at 3000 rpm', '360Nm@ 1750-2800rpm',\n",
       "       '135Nm@ 2500rpm', '259.8Nm@ 1900-2750rpm', '200Nm@ 1900rpm',\n",
       "       '259.9Nm@ 1900-2750rpm', '91Nm@ 4250rpm', '96.1Nm@ 3000rpm',\n",
       "       '109Nm@ 4500rpm', '400nm@ 1750-3000rpm', '202Nm@ 3600-5200rpm',\n",
       "       '430Nm@ 1750-2500rpm', '347Nm@ 4300rpm', '382nm@ 1750-2250rpm',\n",
       "       '620Nm@ 1600-2400rpm', '400Nm@ 1750-2500rpm', '250@ 1250-5000rpm',\n",
       "       '500Nm@ 1600-1800rpm', '250Nm@ 1600-3600rpm', '400Nm',\n",
       "       '550Nm@ 1750-2750rpm', '490Nm@ 1600rpm', '250 Nm at 2750 rpm',\n",
       "       '177.5Nm@ 4700rpm', '170Nm@ 1750-4000rpm', '300Nm@ 1200-4000rpm',\n",
       "       '300Nm@ 1200-1400rpm', '260Nm@ 1500-2750rpm', '213Nm@ 4500rpm',\n",
       "       '224Nm@ 4000rpm', '640Nm@ 1740rpm', '113Nm@ 4500rpm',\n",
       "       '95Nm@ 3000-4300rpm', '13.1kgm@ 4600rpm', '205Nm@ 1800-2800rpm',\n",
       "       '71Nm@ 3500rpm', '190Nm@ 1750-3000rpm', '146Nm at 4800 rpm',\n",
       "       '14.9 KGM at 3000 RPM', '115Nm@ 3200rpm', '117nm@ 4000rpm',\n",
       "       '320Nm@ 1500-3000rpm', '72Nm@ 4386rpm', '11.4 kgm at 4,000 rpm',\n",
       "       '140Nm@ 1500-4000rpm', '134Nm@ 4000rpm', '150Nm@ 4500rpm',\n",
       "       '340Nm@ 1800-3250rpm', '240Nm@ 1600-2800rpm',\n",
       "       '330Nm@ 1600-2800rpm', '12.5@ 3,500(kgm@ rpm)', '110Nm@ 4800rpm',\n",
       "       '111.8Nm@ 4000rpm', '11.8@ 3,200(kgm@ rpm)', '135.4Nm@ 2500rpm',\n",
       "       '300Nm@ 1750-2500rpm', '190.25nm@ 1750-2250rpm',\n",
       "       '140Nm@ 1800-3000rpm', '20.4@ 1400-3400(kgm@ rpm)',\n",
       "       '247Nm@ 1800-2000rpm', '223Nm@ 1600-2200rpm',\n",
       "       '180 Nm at 1440-1500rpm', '195Nm@ 1400-2200rpm',\n",
       "       '154.9Nm@ 4200rpm', '114.73Nm@ 4000rpm', '160Nm@ 1500-2750rpm',\n",
       "       '108Nm@ 4400rpm', '190.24nm@ 1750-2250rpm', '200Nm@ 2000-3500rpm',\n",
       "       '420Nm@ 1400-2600rpm', '100Nm@ 2700rpm', '51Nm@ 4000rpm',\n",
       "       '250Nm@ 1250-5300rpm', '132Nm@ 3000rpm', '350Nm@ 1500-2750rpm',\n",
       "       '218Nm@ 4200rpm', '14.9@ 3,000(kgm@ rpm)',\n",
       "       '24@ 1,900-2,750(kgm@ rpm)', '13.5@ 2,500(kgm@ rpm)',\n",
       "       '85Nm@ 3000rpm', '74.5Nm@ 4000rpm', '160Nm@ 1750rpm',\n",
       "       '180.4Nm@ 1750-2500rpm', '230Nm@ 1500-2500rpm',\n",
       "       '113.75Nm@ 4000rpm', '219.66nm@ 1500-2750rpm', '245Nm@ 1750rpm',\n",
       "       '360Nm@ 1400-3200rpm', '320Nm@ 2000rpm', '135 Nm at 2500  rpm ',\n",
       "       '24 KGM at 1900-2750 RPM', '190Nm@ 1750-2250rpm',\n",
       "       '204Nm@ 2000-2750rpm', '14.3@ 1,800-3,000(kgm@ rpm)',\n",
       "       '250nm@ 1500-2750rpm', '125Nm@ 2000rpm', '172Nm@ 4300rpm',\n",
       "       '150Nm@ 1750rpm', '102Nm@ 4000rpm', '85Nm@ 2500rpm',\n",
       "       '8.5@ 2,500(kgm@ rpm)', '180Nm@ 1440-1500rpm', '106.5Nm@ 4400rpm',\n",
       "       '108.5Nm@ 5000rpm', '350Nm@ 1750-2500rpm', '144.15nm@ 4500rpm',\n",
       "       '104Nm@ 4400rpm', '99Nm@ 4500rpm', '200Nm@ 2000rpm',\n",
       "       '280Nm@ 1800-2800rpm', '142.5Nm@ 1750rpm', '140Nm@ 4400rpm',\n",
       "       '115@ 2,500(kgm@ rpm)', '196Nm@ 5000rpm',\n",
       "       '260 Nm at 1800-2200 rpm', '9.8@ 3,000(kgm@ rpm)',\n",
       "       '209Nm@ 2000rpm', '135 Nm at 2500 rpm', '140Nm@ 4200rpm',\n",
       "       '220Nm at 1400-2600 rpm', '48Nm@ 3000rpm', '171Nm@ 1800rpm',\n",
       "       '277.5Nm@ 1700-2200rpm', '215Nm@ 3600rpm', '219.6Nm@ 1750-2750rpm',\n",
       "       '195Nm@ 1440-2200rpm', '13@ 2,500(kgm@ rpm)', '180Nm@ 2000rpm',\n",
       "       '200Nm@ 1400-2200rpm', '380Nm(38.7kgm)@ 2500rpm', '110Nm@ 4400rpm',\n",
       "       '72Nm@ 4388rpm', '263.7Nm@ 2500rpm', '320Nm@ 1600-2800rpm',\n",
       "       '25.5@ 1,500-3,000(kgm@ rpm)', '16.3@ 2,000(kgm@ rpm)',\n",
       "       '190 Nm at 1750 rpm ', '94.14Nm@ 3500rpm', '12@ 3,500(kgm@ rpm)',\n",
       "       '113Nm@ 5000rpm', '280Nm@ 2400-2800rpm', '96Nm@ 3500rpm',\n",
       "       '16@ 2,000(kgm@ rpm)', '320Nm@ 1750-3000rpm', '114.73nm@ 4000rpm',\n",
       "       '320Nm@ 1750-2500rpm', '138nm@ 4400rpm', '190Nm@ 1750rpm',\n",
       "       '789Nm@ 2250rpm', '259.87Nm@ 1900-2750rpm', '205Nm@ 1750rpm',\n",
       "       '436.39Nm@ 1800-2500rpm', '182.5Nm@ 1500-1800rpm',\n",
       "       '90.3Nm@ 4200rpm', '12.5@ 2,500(kgm@ rpm)', '215Nm@ 1750-3000rpm',\n",
       "       '215Nm@ 1750-3000', '305Nm@ 2000rpm', '540Nm@ 2000rpm',\n",
       "       '327Nm@ 2600rpm', '300Nm@ 1600-3000rpm', '620Nm@ 2000-2500rpm',\n",
       "       '450Nm@ 1600-2400rpm', '19@ 1,800(kgm@ rpm)',\n",
       "       '9.2@ 4,200(kgm@ rpm)', '145@ 4,100(kgm@ rpm)',\n",
       "       '51Nm@ 4000+/-500rpm', '110Nm@ 3000rpm', '148Nm@ 3500rpm',\n",
       "       '116Nm@ 4750rpm', '48@ 3,000+/-500(NM@ rpm)', '148Nm@ 4000rpm',\n",
       "       '222Nm@ 4300rpm', '135.3Nm@ 5000rpm', '98Nm@ 1600-3000rpm',\n",
       "       '170Nm@ 1400-4500rpm', '343Nm@ 1400-2800rpm',\n",
       "       '402Nm@ 1600-3000rpm', '113Nm@ 3300rpm', '99.07Nm@ 4500rpm',\n",
       "       '210nm@ 1600-2200rpm', '190 Nm at 1750  rpm ', '32.1kgm@ 2000rpm',\n",
       "       '224nm@ 1500-2750rpm', '400nm@ 1750-2500rpm',\n",
       "       '215Nm@ 1750-2500rpm', '25@ 1,800-2,800(kgm@ rpm)',\n",
       "       '197Nm@ 1750rpm', '136.3Nm@ 4200rpm', '470Nm@ 1750-2500rpm',\n",
       "       '11@ 3,000(kgm@ rpm)', '142Nm@ 4000rpm', '145Nm@ 4100rpm',\n",
       "       '320Nm@ 1500-2800rpm', '123Nm@ 1000-2500rpm',\n",
       "       '218Nm@ 1400-2600rpm', '510@ 1600-2400', '220Nm@ 1500-2750rpm',\n",
       "       '380Nm@ 2000rpm', '104Nm@ 3100rpm', '292Nm@ 2000rpm',\n",
       "       '20@ 3,750(kgm@ rpm)', '46.5@ 1,400-2,800(kgm@ rpm)',\n",
       "       '380Nm@ 2500rpm', '15@ 3,800(kgm@ rpm)', '136Nm@ 4250rpm',\n",
       "       '228Nm@ 4400rpm', '149Nm@ 4500rpm', '187Nm@ 2500rpm',\n",
       "       '146Nm@ 3400rpm', '8.6@ 3,500(kgm@ rpm)', '219.7Nm@ 1750-2750rpm',\n",
       "       '190Nm@ 2000-3000', '450Nm@ 2000rpm', '300Nm@ 2000rpm',\n",
       "       '230Nm@ 1800-2000rpm', '42@ 2,000(kgm@ rpm)',\n",
       "       '110Nm@ 3000-4300rpm', '110(11.2)@ 4800', '330Nm@ 1800rpm',\n",
       "       '225Nm@ 1500-2500rpm', '380Nm@ 1750-2750rpm',\n",
       "       '28.3@ 1,700-2,200(kgm@ rpm)', '259.88Nm@ 1900-2750rpm',\n",
       "       '580Nm@ 1400-3250rpm', '400 Nm /2000 rpm', '127Nm@ 3500rpm',\n",
       "       '300Nm@ 1500-2500rpm', '132.3Nm@ 4000rpm', '113nm@ 4400rpm',\n",
       "       '151NM@ 4850rpm', '153Nm@ 3750-3800rpm', '10.7@ 2,500(kgm@ rpm)',\n",
       "       '124.6Nm@ 3500rpm', '78Nm@ 3500rpm', '219.9Nm@ 1750-2750rpm',\n",
       "       '420.7Nm@ 1800-2500rpm', '130Nm@ 3000rpm', '424Nm@ 2000rpm',\n",
       "       '130@ 2500(kgm@ rpm)', '99.8Nm@ 2700rpm', '113Nm@ 4,500rpm',\n",
       "       '11.2@ 4,400(kgm@ rpm)', '240Nm@ 1850rpm', '16.1@ 4,200(kgm@ rpm)',\n",
       "       '320Nm@ 1750-2700rpm', '115Nm@ 4500rpm', '245Nm@ 4000rpm',\n",
       "       '321Nm@ 1600-2400rpm', '619Nm@ 1600-2400rpm',\n",
       "       '380Nm@ 1750-3000rpm', '560Nm@ 1500rpm', '230Nm@ 1500-2250rpm',\n",
       "       '90Nm@ 2650rpm', '260Nm@ 1800-2200rpm', '600Nm@ 2000rpm',\n",
       "       '259.87nm@ 1500-3000rpm', '16.6@ 4,500(kgm@ rpm)',\n",
       "       '219.66NM@ 1500-2750rpm', '12.5@ 3,000(kgm@ rpm)',\n",
       "       '620Nm@ 1500-2500rpm', '250Nm@ 1500-4500rpm',\n",
       "       '14.9@ 3,400(kgm@ rpm)', '25.5@ 1,900(kgm@ rpm)',\n",
       "       '33.7@ 1,800(kgm@ rpm)', '285Nm@ 2400-4000rpm',\n",
       "       '10.7@ 2,600(kgm@ rpm)', '250Nm@ 1000-2000rpm', '240Nm@ 1750rpm',\n",
       "       '226Nm@ 4400rpm', '510Nm@ 1600-2800rpm', '259.87NM@ 1500-3000rpm',\n",
       "       '155 Nm at 1600-2800 rpm', '240Nm@ 2000rpm', '103Nm@ 4500rpm',\n",
       "       '13.5@ 4,800(kgm@ rpm)', '400Nm@ 1750-2750rpm',\n",
       "       '175Nm@ 1500-4100rpm', '72.9Nm@ 2250rpm', '135.4Nm@ 2500',\n",
       "       '245Nm@ 5000rpm', '57Nm@ 2500rpm', '96Nm@ 2500rpm',\n",
       "       '215nm@ 1750-2500rpm', '10.4@ 3,200(kgm@ rpm)', '128Nm@ 3100rpm',\n",
       "       '102Nm@ 2600rpm', '131Nm@ 4400rpm', '11.4@ 4,000(kgm@ rpm)',\n",
       "       '250Nm@ 4250rpm', '343Nm@ 1600-2800rpm', '185Nm@ 1750-2750rpm',\n",
       "       '12@ 2500(kgm@ rpm)', '12.4@ 2,600(kgm@ rpm)', '170Nm@ 4200rpm',\n",
       "       '176Nm@ 1500rpm', '380NM@ 1800-2800rpm', '250Nm@ 1600-2000rpm',\n",
       "       '24.5@ 3,500-4,500(kgm@ rpm)', '22.9@ 1,950-4,700(kgm@ rpm)',\n",
       "       '113Nm@ 4400rpm', '121Nm@ 2800rpm', '210 / 1900',\n",
       "       '250Nm@ 1250-5000rpm', '400Nm@ 175-2750rpm', '350Nm@ 1500-3500rpm',\n",
       "       '175nm@ 1750-4000rpm', '115@ 2500(kgm@ rpm)', '110Nm@ 4500rpm',\n",
       "       '190Nm@ 2000-3000rpm', '106Nm@ 2200rpm',\n",
       "       '21.4@ 1,750-4,600(kgm@ rpm)', '96Nm@ 3000rpm',\n",
       "       '23.6@ 4,250(kgm@ rpm)', '11.3kgm@ 4700rpm', '450Nm@ 1750-2500rpm',\n",
       "       '35.7@ 1,750-3,000(kgm@ rpm)', '6@ 2,500(kgm@ rpm)',\n",
       "       '13.9 kgm at 4200 rpm', '320Nm@ 1400-4100rpm',\n",
       "       '150Nm@ 1700-4500rpm', '113.8Nm@ 4000rpm', '110@ 3,000(kgm@ rpm)',\n",
       "       '151Nm@ 2400rpm', '62Nm@ 2500rpm', '18@ 1,600-2,200(kgm@ rpm)',\n",
       "       '83Nm@ 3000rpm', '124.5Nm@ 3500rpm', '20@ 4,700(kgm@ rpm)',\n",
       "       '300Nm@ 1600-4000rpm', '171.6Nm@ 1500-4000rpm',\n",
       "       '21.4@ 1,900(kgm@ rpm)', '190@ 21,800(kgm@ rpm)',\n",
       "       '5.7@ 2,500(kgm@ rpm)', '88.4Nm@ 4200rpm',\n",
       "       '250 Nm at 1,500-3,000 rpm', '340nm@ 1750-3000rpm',\n",
       "       '36.6@ 1,750-2,500(kgm@ rpm)', '12.5kgm@ 3500rpm',\n",
       "       '6.1@ 3,000(kgm@ rpm)', '110Nm@ 4000rpm', '350nm@ 1800-2600rpm',\n",
       "       '175nm@ 1500-4100rpm', '4.8kgm@ 3000rpm', '355Nm@ 4500rpm',\n",
       "       '51@ 1,750-3,000(kgm@ rpm)', '119Nm@ 4250rpm',\n",
       "       '410Nm@ 1600-2800rpm', '174Nm@ 4300rpm', '99.1Nm@ 4500rpm',\n",
       "       '385Nm@ 1600-2500rpm', '180 Nm at 2000rpm', '190 Nm at 1750 rpm',\n",
       "       '53@ 2,000-2,750(kgm@ rpm)', '360Nm@ 1400-2600rpm',\n",
       "       '420Nm@ 2000rpm', '124Nm@ 3500rpm', '17.5@ 4,300(kgm@ rpm)',\n",
       "       '360Nm@ 2000rpm', '145Nm@ 3750rpm', '85Nm@ 3500rpm',\n",
       "       '190Nm@ 4200rpm', '190 Nm at 2000rpm', '13.5@ 2500(kgm@ rpm)',\n",
       "       '250nm@ 1500-3000rpm', '159.8Nm@ 1500-2750rpm', '500Nm@ 2000rpm',\n",
       "       '333Nm@ 1600-3200rpm', '400nm@ 2800rpm',\n",
       "       '33@ 2,000-2,680(kgm@ rpm)', '10.2@ 2,600(kgm@ rpm)', '480Nm',\n",
       "       '190Nm@ 4300rpm', '320Nm@ 1800-2800rpm', '380Nm@ 1750rpm',\n",
       "       '250.06nm@ 1500-2750rpm', '90nm@ 3500rpm', '190Nm@ 3700rpm',\n",
       "       '436.4Nm@ 1800-2500rpm', '96  Nm at 3000  rpm '], dtype=object)"
      ]
     },
     "execution_count": 7,
     "metadata": {},
     "output_type": "execute_result"
    }
   ],
   "source": [
    "#show unique values in torque column\n",
    "df.torque.unique()"
   ]
  },
  {
   "cell_type": "code",
   "execution_count": 8,
   "id": "b4fcaaf4",
   "metadata": {},
   "outputs": [
    {
     "data": {
      "text/plain": [
       "array([ 5.,  4., nan,  7.,  8.,  6.,  9., 10., 14.,  2.])"
      ]
     },
     "execution_count": 8,
     "metadata": {},
     "output_type": "execute_result"
    }
   ],
   "source": [
    "#show unique values in seats column\n",
    "df.seats.unique()"
   ]
  },
  {
   "cell_type": "code",
   "execution_count": 9,
   "id": "79fce9ec",
   "metadata": {},
   "outputs": [
    {
     "data": {
      "text/plain": [
       "array(['First Owner', 'Second Owner', 'Third Owner',\n",
       "       'Fourth & Above Owner', 'Test Drive Car'], dtype=object)"
      ]
     },
     "execution_count": 9,
     "metadata": {},
     "output_type": "execute_result"
    }
   ],
   "source": [
    "#show unique values in owner column\n",
    "df.owner.unique()"
   ]
  },
  {
   "cell_type": "code",
   "execution_count": 10,
   "id": "02f1f2c8",
   "metadata": {},
   "outputs": [
    {
     "data": {
      "text/plain": [
       "array(['74 bhp', '103.52 bhp', '78 bhp', '90 bhp', '88.2 bhp',\n",
       "       '81.86 bhp', '57.5 bhp', '37 bhp', '67.1 bhp', '68.1 bhp',\n",
       "       '108.45 bhp', '60 bhp', '73.9 bhp', nan, '67 bhp', '82 bhp',\n",
       "       '88.5 bhp', '46.3 bhp', '88.73 bhp', '64.1 bhp', '98.6 bhp',\n",
       "       '88.8 bhp', '83.81 bhp', '83.1 bhp', '47.3 bhp', '73.8 bhp',\n",
       "       '34.2 bhp', '35 bhp', '81.83 bhp', '40.3 bhp', '121.3 bhp',\n",
       "       '138.03 bhp', '160.77 bhp', '117.3 bhp', '116.3 bhp', '83.14 bhp',\n",
       "       '67.05 bhp', '168.5 bhp', '100 bhp', '120.7 bhp', '98.63 bhp',\n",
       "       '175.56 bhp', '103.25 bhp', '171.5 bhp', '100.6 bhp', '174.33 bhp',\n",
       "       '187.74 bhp', '170 bhp', '78.9 bhp', '88.76 bhp', '86.8 bhp',\n",
       "       '108.495 bhp', '108.62 bhp', '93.7 bhp', '103.6 bhp', '98.59 bhp',\n",
       "       '189 bhp', '67.04 bhp', '68.05 bhp', '58.2 bhp', '82.85 bhp',\n",
       "       '81.80 bhp', '73 bhp', '120 bhp', '94.68 bhp', '160 bhp', '65 bhp',\n",
       "       '155 bhp', '69.01 bhp', '126.32 bhp', '138.1 bhp', '83.8 bhp',\n",
       "       '126.2 bhp', '98.96 bhp', '62.1 bhp', '86.7 bhp', '188 bhp',\n",
       "       '214.56 bhp', '177 bhp', '280 bhp', '148.31 bhp', '254.79 bhp',\n",
       "       '190 bhp', '177.46 bhp', '204 bhp', '141 bhp', '117.6 bhp',\n",
       "       '241.4 bhp', '282 bhp', '150 bhp', '147.5 bhp', '108.5 bhp',\n",
       "       '103.5 bhp', '183 bhp', '181.04 bhp', '157.7 bhp', '164.7 bhp',\n",
       "       '91.1 bhp', '400 bhp', '68 bhp', '75 bhp', '85.8 bhp', '87.2 bhp',\n",
       "       '53 bhp', '118 bhp', '103.2 bhp', '83 bhp', '84 bhp', '58.16 bhp',\n",
       "       '147.94 bhp', '74.02 bhp', '53.3 bhp', '80 bhp', '88.7 bhp',\n",
       "       '97.7 bhp', '121.36 bhp', '162 bhp', '140 bhp', '94 bhp',\n",
       "       '100.57 bhp', '82.9 bhp', '83.11 bhp', '70 bhp', '153.86 bhp',\n",
       "       '121 bhp', '126.3 bhp', '73.97 bhp', '171 bhp', '69 bhp',\n",
       "       '99.6 bhp', '102 bhp', '105 bhp', '63 bhp', '79.4 bhp', '97.9 bhp',\n",
       "       '63.1 bhp', '66.1 bhp', '110 bhp', '174.5 bhp', '53.26 bhp',\n",
       "       '73.75 bhp', '67.06 bhp', '64.08 bhp', '37.5 bhp', '189.3 bhp',\n",
       "       '158.8 bhp', '61.7 bhp', '55.2 bhp', '71.01 bhp', '73.74 bhp',\n",
       "       '147.9 bhp', '71 bhp', '77 bhp', '121.4 bhp', '113.4 bhp',\n",
       "       '47 bhp', '130 bhp', '57.6 bhp', '138 bhp', '52.8 bhp',\n",
       "       '53.64 bhp', '53.5 bhp', '76.8 bhp', '82.4 bhp', '113.42 bhp',\n",
       "       '76 bhp', '84.8 bhp', '0', '56.3 bhp', '218 bhp', '112 bhp',\n",
       "       '92 bhp', '105.5 bhp', '169 bhp', '95 bhp', '72.4 bhp', '115 bhp',\n",
       "       '152 bhp', '91.2 bhp', '156 bhp', '74.9 bhp', '62 bhp',\n",
       "       '105.3 bhp', '73.94 bhp', '85.80 bhp', '85 bhp', '118.3 bhp',\n",
       "       '72 bhp', '147.51 bhp', '58 bhp', '64 bhp', '126.24 bhp',\n",
       "       '76.9 bhp', '194.3 bhp', '99.23 bhp', '89.84 bhp', '123.7 bhp',\n",
       "       '118.35 bhp', '99 bhp', '241 bhp', '136 bhp', '261.4 bhp',\n",
       "       '104.68 bhp', '37.48 bhp', '104 bhp', '88.50 bhp', '63.12 bhp',\n",
       "       '91.7 bhp', '102.5 bhp', '177.6 bhp', '45 bhp', '123.37 bhp',\n",
       "       '147.8 bhp', '184 bhp', '84.48 bhp', '68.07 bhp', '74.96 bhp',\n",
       "       '167.6 bhp', '152.87 bhp', '112.2 bhp', '83.83 bhp', '197 bhp',\n",
       "       '110.4 bhp', '104.55 bhp', '103 bhp', '103.3 bhp', '66 bhp',\n",
       "       '108.6 bhp', '165 bhp', '163.7 bhp', '116.9 bhp', '94.93 bhp',\n",
       "       '127 bhp', '198.5 bhp', '179.5 bhp', '120.69 bhp', '121.31 bhp',\n",
       "       '138.08 bhp', '187.7 bhp', '80.8 bhp', '86.79 bhp', '93.87 bhp',\n",
       "       '116.6 bhp', '143 bhp', '92.7 bhp', '88 bhp', '58.33 bhp',\n",
       "       '78.8 bhp', '64.4 bhp', '125 bhp', '139.01 bhp', '254.8 bhp',\n",
       "       '181 bhp', '258 bhp', '55.23 bhp', '270.9 bhp', '265 bhp',\n",
       "       '157.75 bhp', '101 bhp', '186 bhp', '187.4 bhp', '224 bhp',\n",
       "       '64.9 bhp', '148 bhp', '35.5 bhp', '89.75 bhp', '32.8 bhp',\n",
       "       '91.72 bhp', '106 bhp', '98.97 bhp', '66.6 bhp', '86 bhp',\n",
       "       '65.3 bhp', '98.82 bhp', '198.25 bhp', '38 bhp', '142 bhp',\n",
       "       '132 bhp', '174.57 bhp', '178 bhp', '163.2 bhp', '203.2 bhp',\n",
       "       '177.5 bhp', '175 bhp', '57 bhp', '80.84 bhp', '68.4 bhp',\n",
       "       '167.67 bhp', '170.63 bhp', '52 bhp', '149.5 bhp', '48.21 bhp',\n",
       "       ' bhp', '201.1 bhp', '100.5 bhp', '144 bhp', '194.4 bhp',\n",
       "       '168.7 bhp', '104.5 bhp', '103.26 bhp', '116.4 bhp', '98.79 bhp',\n",
       "       '80.9 bhp', '58.3 bhp', '272 bhp', '235 bhp', '167.62 bhp',\n",
       "       '170.30 bhp', '139.46 bhp', '158 bhp', '110.5 bhp', '82.5 bhp',\n",
       "       '141.1 bhp', '38.4 bhp', '197.2 bhp', '161 bhp', '194 bhp',\n",
       "       '122.4 bhp', '134.10 bhp', '60.2 bhp', '134 bhp', '203 bhp',\n",
       "       '135.1 bhp'], dtype=object)"
      ]
     },
     "execution_count": 10,
     "metadata": {},
     "output_type": "execute_result"
    }
   ],
   "source": [
    "#show unique values in max power column\n",
    "df.max_power.unique()"
   ]
  },
  {
   "cell_type": "code",
   "execution_count": 11,
   "id": "11a21c07",
   "metadata": {},
   "outputs": [
    {
     "data": {
      "text/plain": [
       "array(['23.4 kmpl', '21.14 kmpl', '17.7 kmpl', '23.0 kmpl', '16.1 kmpl',\n",
       "       '20.14 kmpl', '17.3 km/kg', '23.59 kmpl', '20.0 kmpl',\n",
       "       '19.01 kmpl', '17.3 kmpl', '19.3 kmpl', nan, '18.9 kmpl',\n",
       "       '18.15 kmpl', '24.52 kmpl', '19.7 kmpl', '22.54 kmpl', '21.0 kmpl',\n",
       "       '25.5 kmpl', '26.59 kmpl', '21.5 kmpl', '20.3 kmpl', '21.4 kmpl',\n",
       "       '24.7 kmpl', '18.2 kmpl', '16.8 kmpl', '24.3 kmpl', '14.0 kmpl',\n",
       "       '18.6 kmpl', '33.44 km/kg', '23.95 kmpl', '17.0 kmpl',\n",
       "       '20.63 kmpl', '13.93 kmpl', '16.0 kmpl', '17.8 kmpl', '18.5 kmpl',\n",
       "       '12.55 kmpl', '12.99 kmpl', '14.8 kmpl', '13.5 kmpl', '26.0 kmpl',\n",
       "       '20.65 kmpl', '27.3 kmpl', '11.36 kmpl', '17.68 kmpl',\n",
       "       '14.28 kmpl', '18.53 kmpl', '14.84 kmpl', '21.12 kmpl',\n",
       "       '20.36 kmpl', '21.27 kmpl', '18.16 kmpl', '22.0 kmpl', '25.1 kmpl',\n",
       "       '20.51 kmpl', '21.66 kmpl', '25.2 kmpl', '22.9 kmpl', '16.02 kmpl',\n",
       "       '20.54 kmpl', '22.77 kmpl', '15.71 kmpl', '23.1 kmpl',\n",
       "       '19.02 kmpl', '19.81 kmpl', '26.2 km/kg', '16.47 kmpl',\n",
       "       '15.04 kmpl', '19.1 kmpl', '21.79 kmpl', '18.8 kmpl', '21.21 kmpl',\n",
       "       '15.37 kmpl', '11.79 kmpl', '19.0 kmpl', '14.3 kmpl', '15.8 kmpl',\n",
       "       '15.1 kmpl', '19.09 kmpl', '22.32 kmpl', '21.9 kmpl', '14.53 kmpl',\n",
       "       '21.63 kmpl', '20.85 kmpl', '20.45 kmpl', '19.67 kmpl',\n",
       "       '23.01 kmpl', '20.77 kmpl', '17.92 kmpl', '17.01 kmpl',\n",
       "       '22.37 kmpl', '19.33 kmpl', '9.5 kmpl', '12.83 kmpl', '22.48 kmpl',\n",
       "       '16.78 kmpl', '14.67 kmpl', '15.0 kmpl', '13.96 kmpl', '18.0 kmpl',\n",
       "       '12.07 kmpl', '26.21 kmpl', '10.8 kmpl', '16.3 kmpl', '13.6 kmpl',\n",
       "       '14.74 kmpl', '15.6 kmpl', '19.56 kmpl', '22.69 kmpl',\n",
       "       '19.16 kmpl', '18.12 kmpl', '12.1 kmpl', '17.5 kmpl', '42.0 kmpl',\n",
       "       '20.4 kmpl', '21.1 kmpl', '19.44 kmpl', '13.0 kmpl', '21.43 kmpl',\n",
       "       '22.95 kmpl', '16.2 kmpl', '15.3 kmpl', '28.09 kmpl', '17.4 kmpl',\n",
       "       '19.4 kmpl', '26.6 km/kg', '17.6 kmpl', '28.4 kmpl', '14.1 kmpl',\n",
       "       '25.17 kmpl', '22.74 kmpl', '17.57 kmpl', '16.95 kmpl',\n",
       "       '19.49 kmpl', '17.21 kmpl', '13.2 kmpl', '14.2 kmpl', '26.8 kmpl',\n",
       "       '25.4 kmpl', '11.5 kmpl', '27.28 kmpl', '17.97 kmpl', '12.8 kmpl',\n",
       "       '16.55 kmpl', '12.05 kmpl', '14.07 kmpl', '21.02 kmpl',\n",
       "       '11.57 kmpl', '17.9 kmpl', '15.96 kmpl', '17.1 kmpl', '17.19 kmpl',\n",
       "       '21.01 kmpl', '24.0 kmpl', '25.6 kmpl', '21.38 kmpl', '23.84 kmpl',\n",
       "       '23.08 kmpl', '14.24 kmpl', '20.71 kmpl', '15.64 kmpl',\n",
       "       '14.5 kmpl', '16.34 kmpl', '27.39 kmpl', '11.1 kmpl', '13.9 kmpl',\n",
       "       '20.88 km/kg', '20.92 kmpl', '23.8 kmpl', '24.4 kmpl',\n",
       "       '15.29 kmpl', '21.19 kmpl', '22.5 kmpl', '19.6 kmpl', '23.65 kmpl',\n",
       "       '25.32 kmpl', '23.5 kmpl', '16.6 kmpl', '23.9 kmpl', '20.8 kmpl',\n",
       "       '27.62 kmpl', '12.9 kmpl', '25.44 kmpl', '17.88 kmpl', '22.7 kmpl',\n",
       "       '17.2 kmpl', '15.42 kmpl', '19.68 kmpl', '18.7 kmpl', '15.4 kmpl',\n",
       "       '19.34 kmpl', '22.71 kmpl', '25.8 kmpl', '13.7 kmpl', '12.2 kmpl',\n",
       "       '18.49 kmpl', '9.0 kmpl', '0.0 kmpl', '13.58 kmpl', '10.1 kmpl',\n",
       "       '20.5 kmpl', '25.0 kmpl', '10.5 kmpl', '22.07 kmpl', '22.3 kmpl',\n",
       "       '15.26 kmpl', '20.62 kmpl', '27.4 kmpl', '23.2 kmpl', '14.4 kmpl',\n",
       "       '18.4 kmpl', '30.46 km/kg', '14.02 kmpl', '11.0 kmpl', '20.6 kmpl',\n",
       "       '22.05 kmpl', '20.2 kmpl', '18.1 kmpl', '22.1 kmpl', '19.87 kmpl',\n",
       "       '13.01 kmpl', '18.06 kmpl', '26.1 kmpl', '16.52 kmpl',\n",
       "       '13.55 kmpl', '24.2 kmpl', '25.83 kmpl', '11.2 kmpl', '17.09 kmpl',\n",
       "       '21.03 kmpl', '17.45 kmpl', '21.64 kmpl', '21.94 km/kg',\n",
       "       '13.87 kmpl', '19.98 kmpl', '20.52 kmpl', '23.57 kmpl',\n",
       "       '11.7 kmpl', '17.43 kmpl', '18.88 kmpl', '13.68 kmpl',\n",
       "       '11.18 kmpl', '20.89 kmpl', '11.8 kmpl', '19.62 kmpl', '21.7 kmpl',\n",
       "       '14.9 kmpl', '19.5 kmpl', '10.91 kmpl', '15.7 kmpl', '20.73 kmpl',\n",
       "       '15.85 kmpl', '20.7 kmpl', '14.23 kmpl', '16.5 kmpl', '17.36 kmpl',\n",
       "       '12.6 kmpl', '16.36 kmpl', '14.95 kmpl', '16.9 kmpl', '19.2 kmpl',\n",
       "       '16.96 kmpl', '22.15 kmpl', '18.78 kmpl', '19.61 kmpl',\n",
       "       '17.71 kmpl', '18.3 kmpl', '19.12 kmpl', '19.72 kmpl', '12.0 kmpl',\n",
       "       '11.4 kmpl', '23.03 kmpl', '11.07 kmpl', '15.9 kmpl', '17.67 kmpl',\n",
       "       '20.46 kmpl', '13.1 kmpl', '13.45 km/kg', '24.8 kmpl',\n",
       "       '15.73 kmpl', '15.11 kmpl', '12.7 kmpl', '21.2 kmpl', '20.38 kmpl',\n",
       "       '21.56 kmpl', '13.22 kmpl', '14.49 kmpl', '15.05 kmpl',\n",
       "       '23.26 kmpl', '15.41 kmpl', '13.8 kmpl', '22.27 kmpl',\n",
       "       '32.52 km/kg', '14.66 kmpl', '12.12 kmpl', '16.84 kmpl',\n",
       "       '14.09 kmpl', '14.7 kmpl', '13.4 kmpl', '15.5 kmpl', '13.49 kmpl',\n",
       "       '11.88 km/kg', '14.6 kmpl', '10.75 kmpl', '24.5 kmpl',\n",
       "       '11.74 kmpl', '16.07 kmpl', '15.63 kmpl', '26.3 km/kg',\n",
       "       '23.7 km/kg', '25.47 kmpl', '17.05 kmpl', '23.3 kmpl', '11.9 kmpl',\n",
       "       '13.38 kmpl', '20.86 kmpl', '19.2 km/kg', '10.9 kmpl',\n",
       "       '18.25 kmpl', '15.2 kmpl', '20.37 kmpl', '17.8 km/kg', '21.8 kmpl',\n",
       "       '11.96 kmpl', '24.04 kmpl', '19.69 kmpl', '13.73 kmpl',\n",
       "       '21.04 kmpl', '25.01 kmpl', '10.93 kmpl', '10.9 km/kg',\n",
       "       '24.29 kmpl', '13.44 kmpl', '20.07 kmpl', '21.1 km/kg',\n",
       "       '19.08 kmpl', '20.34 kmpl', '11.68 kmpl', '12.5 kmpl', '12.3 kmpl',\n",
       "       '23.87 kmpl', '16.38 kmpl', '17.42 kmpl', '10.0 kmpl',\n",
       "       '18.24 kmpl', '10.71 kmpl', '19.59 kmpl', '16.7 kmpl',\n",
       "       '19.83 kmpl', '21.76 kmpl', '16.05 kmpl', '20.28 kmpl',\n",
       "       '16.25 kmpl', '16.73 kmpl', '18.48 kmpl', '13.2 km/kg',\n",
       "       '21.4 km/kg', '14.99 kmpl', '18.76 kmpl', '16.4 kmpl',\n",
       "       '19.64 kmpl', '14.94 kmpl', '16.6 km/kg', '16.0 km/kg',\n",
       "       '17.11 kmpl', '22.8 km/kg', '32.26 km/kg', '33.0 km/kg',\n",
       "       '12.4 kmpl', '18.44 kmpl', '16.09 kmpl', '19.0 km/kg',\n",
       "       '12.62 kmpl', '21.13 kmpl', '15.17 kmpl', '21.73 kmpl',\n",
       "       '21.72 kmpl', '12.85 kmpl', '14.81 kmpl', '13.24 kmpl',\n",
       "       '14.4 km/kg', '21.49 kmpl', '14.62 kmpl', '26.83 km/kg',\n",
       "       '11.45 kmpl', '12.08 kmpl', '15.74 kmpl', '11.3 kmpl',\n",
       "       '15.1 km/kg', '14.21 kmpl', '11.72 kmpl', '16.51 kmpl'],\n",
       "      dtype=object)"
      ]
     },
     "execution_count": 11,
     "metadata": {},
     "output_type": "execute_result"
    }
   ],
   "source": [
    "#show unique values in mileage column\n",
    "df.mileage.unique()"
   ]
  },
  {
   "cell_type": "markdown",
   "id": "1d2d8a99",
   "metadata": {},
   "source": [
    "###### I See mileage has different unit kmpl and km/kg "
   ]
  },
  {
   "cell_type": "code",
   "execution_count": 12,
   "id": "0009c669",
   "metadata": {},
   "outputs": [
    {
     "data": {
      "text/plain": [
       "array(['1248 CC', '1498 CC', '1497 CC', '1396 CC', '1298 CC', '1197 CC',\n",
       "       '1061 CC', '796 CC', '1364 CC', '1399 CC', '1461 CC', '993 CC',\n",
       "       nan, '1198 CC', '1199 CC', '998 CC', '1591 CC', '2179 CC',\n",
       "       '1368 CC', '2982 CC', '2494 CC', '2143 CC', '2477 CC', '1462 CC',\n",
       "       '2755 CC', '1968 CC', '1798 CC', '1196 CC', '1373 CC', '1598 CC',\n",
       "       '1998 CC', '1086 CC', '1194 CC', '1172 CC', '1405 CC', '1582 CC',\n",
       "       '999 CC', '2487 CC', '1999 CC', '3604 CC', '2987 CC', '1995 CC',\n",
       "       '1451 CC', '1969 CC', '2967 CC', '2497 CC', '1797 CC', '1991 CC',\n",
       "       '2362 CC', '1493 CC', '1599 CC', '1341 CC', '1794 CC', '799 CC',\n",
       "       '1193 CC', '2696 CC', '1495 CC', '1186 CC', '1047 CC', '2498 CC',\n",
       "       '2956 CC', '2523 CC', '1120 CC', '624 CC', '1496 CC', '1984 CC',\n",
       "       '2354 CC', '814 CC', '793 CC', '1799 CC', '936 CC', '1956 CC',\n",
       "       '1997 CC', '1499 CC', '1948 CC', '2997 CC', '2489 CC', '2499 CC',\n",
       "       '2609 CC', '2953 CC', '1150 CC', '1994 CC', '1388 CC', '1527 CC',\n",
       "       '2199 CC', '995 CC', '2993 CC', '1586 CC', '1390 CC', '909 CC',\n",
       "       '2393 CC', '3198 CC', '1339 CC', '2835 CC', '2092 CC', '1595 CC',\n",
       "       '2496 CC', '1596 CC', '1597 CC', '2596 CC', '2148 CC', '1299 CC',\n",
       "       '1590 CC', '2231 CC', '2694 CC', '2200 CC', '1795 CC', '1896 CC',\n",
       "       '1796 CC', '1422 CC', '1489 CC', '2359 CC', '2197 CC', '2999 CC',\n",
       "       '1781 CC', '2650 CC', '1343 CC', '2446 CC', '3498 CC', '2198 CC',\n",
       "       '2776 CC', '1950 CC'], dtype=object)"
      ]
     },
     "execution_count": 12,
     "metadata": {},
     "output_type": "execute_result"
    }
   ],
   "source": [
    "#show unique values in engine column\n",
    "df.engine.unique()"
   ]
  },
  {
   "cell_type": "code",
   "execution_count": 13,
   "id": "4c8289a5",
   "metadata": {},
   "outputs": [],
   "source": [
    "# remove unit from values and create new colum with name contain unit   \n",
    "df['engine_CC'] = df['engine'].str.split(\" \",n=1, expand= True)[0]"
   ]
  },
  {
   "cell_type": "code",
   "execution_count": 14,
   "id": "61fa0942",
   "metadata": {},
   "outputs": [],
   "source": [
    "# remove unit from values and create new colum with name contain unit  \n",
    "df['mileage_Kmpl'] = df['mileage'].str.split(\" \",n=1, expand= True)[0]"
   ]
  },
  {
   "cell_type": "code",
   "execution_count": 15,
   "id": "551bd7c4",
   "metadata": {},
   "outputs": [
    {
     "name": "stdout",
     "output_type": "stream",
     "text": [
      "number of Km/Kg is 88\n",
      "number of Kmpl is 8040\n",
      "percentage of km/Kg is 1.0945273631840797\n"
     ]
    }
   ],
   "source": [
    "kmkg = 0\n",
    "kmpl = 0\n",
    "for i in df.mileage:\n",
    "    if str(i).endswith('km/kg'):\n",
    "        kmkg +=1\n",
    "    else:\n",
    "        kmpl +=1\n",
    "        \n",
    "print('number of Km/Kg is {}'.format(kmkg))\n",
    "print('number of Kmpl is {}'.format(kmpl))\n",
    "print('percentage of km/Kg is {}'.format((kmkg/kmpl)*100))"
   ]
  },
  {
   "cell_type": "code",
   "execution_count": 16,
   "id": "a403a514",
   "metadata": {},
   "outputs": [],
   "source": [
    "# remove unit from values and create new colum with name contain unit  \n",
    "df['max_power_bnb'] = df['max_power'].str.split(\" \",n=1, expand= True)[0]"
   ]
  },
  {
   "cell_type": "code",
   "execution_count": 17,
   "id": "41dc1ec6",
   "metadata": {},
   "outputs": [],
   "source": [
    "# drop unuseful columns\n",
    "df.drop(['torque', 'name', 'max_power', 'mileage', 'engine'], axis=1, inplace=True)"
   ]
  },
  {
   "cell_type": "code",
   "execution_count": 18,
   "id": "5ceba7fc",
   "metadata": {},
   "outputs": [],
   "source": [
    "# convert owner data type into integer \n",
    "df.owner.replace({'Test Drive Car':0 ,'First Owner':1, 'Second Owner':2, 'Third Owner':3, 'Fourth & Above Owner':4},inplace=True)"
   ]
  },
  {
   "cell_type": "code",
   "execution_count": 19,
   "id": "8e211a6d",
   "metadata": {},
   "outputs": [
    {
     "name": "stdout",
     "output_type": "stream",
     "text": [
      "float64\n"
     ]
    }
   ],
   "source": [
    "#Replace null value with mean \n",
    "avg_mileage_Kmpl = df['mileage_Kmpl'].astype('float').mean(axis=0)\n",
    "df['mileage_Kmpl'].replace(np.nan, avg_mileage_Kmpl,inplace=True)\n",
    "\n",
    "# convert df3['max_power_bnb'] to float type\n",
    "df['mileage_Kmpl'] = df['mileage_Kmpl'].astype('float')\n",
    "print(df['mileage_Kmpl'].dtype)"
   ]
  },
  {
   "cell_type": "code",
   "execution_count": 20,
   "id": "3990afb5",
   "metadata": {},
   "outputs": [
    {
     "name": "stdout",
     "output_type": "stream",
     "text": [
      "int32\n"
     ]
    }
   ],
   "source": [
    "#fill nulls values with mode\n",
    "df['seats'] = df['seats'].fillna(df['seats'].mode()[0])\n",
    "\n",
    "#convert seats into int type \n",
    "df['seats'] = df['seats'].astype('int')\n",
    "\n",
    "#check type of seats\n",
    "print(df['seats'].dtype)"
   ]
  },
  {
   "cell_type": "code",
   "execution_count": 21,
   "id": "cb60e4d2",
   "metadata": {},
   "outputs": [
    {
     "name": "stdout",
     "output_type": "stream",
     "text": [
      "int32\n"
     ]
    }
   ],
   "source": [
    "#fill null with mode\n",
    "df['engine_CC'].replace(np.nan, df['engine_CC'].mode()[0],inplace=True)\n",
    "\n",
    "#convert type to int\n",
    "df['engine_CC'] = df['engine_CC'].astype('int')\n",
    "#check type of engine\n",
    "print(df['engine_CC'].dtype)"
   ]
  },
  {
   "cell_type": "code",
   "execution_count": 22,
   "id": "0cb577e5",
   "metadata": {},
   "outputs": [
    {
     "name": "stdout",
     "output_type": "stream",
     "text": [
      "float64\n"
     ]
    }
   ],
   "source": [
    "#Replace null value with mean \n",
    "df['max_power_bnb'].replace('', np.nan,inplace=True)\n",
    "avg_max_power_bnb = df['max_power_bnb'].astype('float').mean(axis=0)\n",
    "df['max_power_bnb'].replace(np.nan, avg_max_power_bnb,inplace=True)\n",
    "\n",
    "# convert df3['max_power_bnb'] to float type\n",
    "df['max_power_bnb'] = df['max_power_bnb'].astype('float')\n",
    "print(df['max_power_bnb'].dtype)"
   ]
  },
  {
   "cell_type": "code",
   "execution_count": 23,
   "id": "04264b89",
   "metadata": {},
   "outputs": [
    {
     "data": {
      "text/html": [
       "<div>\n",
       "<style scoped>\n",
       "    .dataframe tbody tr th:only-of-type {\n",
       "        vertical-align: middle;\n",
       "    }\n",
       "\n",
       "    .dataframe tbody tr th {\n",
       "        vertical-align: top;\n",
       "    }\n",
       "\n",
       "    .dataframe thead th {\n",
       "        text-align: right;\n",
       "    }\n",
       "</style>\n",
       "<table border=\"1\" class=\"dataframe\">\n",
       "  <thead>\n",
       "    <tr style=\"text-align: right;\">\n",
       "      <th></th>\n",
       "      <th>year</th>\n",
       "      <th>selling_price</th>\n",
       "      <th>km_driven</th>\n",
       "      <th>owner</th>\n",
       "      <th>seats</th>\n",
       "      <th>engine_CC</th>\n",
       "      <th>mileage_Kmpl</th>\n",
       "      <th>max_power_bnb</th>\n",
       "    </tr>\n",
       "  </thead>\n",
       "  <tbody>\n",
       "    <tr>\n",
       "      <th>count</th>\n",
       "      <td>8128.000000</td>\n",
       "      <td>8.128000e+03</td>\n",
       "      <td>8.128000e+03</td>\n",
       "      <td>8128.000000</td>\n",
       "      <td>8128.000000</td>\n",
       "      <td>8128.00000</td>\n",
       "      <td>8128.000000</td>\n",
       "      <td>8128.000000</td>\n",
       "    </tr>\n",
       "    <tr>\n",
       "      <th>mean</th>\n",
       "      <td>2013.804011</td>\n",
       "      <td>6.382718e+05</td>\n",
       "      <td>6.981951e+04</td>\n",
       "      <td>1.459154</td>\n",
       "      <td>5.405389</td>\n",
       "      <td>1452.89813</td>\n",
       "      <td>19.418783</td>\n",
       "      <td>91.517919</td>\n",
       "    </tr>\n",
       "    <tr>\n",
       "      <th>std</th>\n",
       "      <td>4.044249</td>\n",
       "      <td>8.062534e+05</td>\n",
       "      <td>5.655055e+04</td>\n",
       "      <td>0.717381</td>\n",
       "      <td>0.948874</td>\n",
       "      <td>498.19672</td>\n",
       "      <td>3.981875</td>\n",
       "      <td>35.343246</td>\n",
       "    </tr>\n",
       "    <tr>\n",
       "      <th>min</th>\n",
       "      <td>1983.000000</td>\n",
       "      <td>2.999900e+04</td>\n",
       "      <td>1.000000e+00</td>\n",
       "      <td>0.000000</td>\n",
       "      <td>2.000000</td>\n",
       "      <td>624.00000</td>\n",
       "      <td>0.000000</td>\n",
       "      <td>0.000000</td>\n",
       "    </tr>\n",
       "    <tr>\n",
       "      <th>25%</th>\n",
       "      <td>2011.000000</td>\n",
       "      <td>2.549990e+05</td>\n",
       "      <td>3.500000e+04</td>\n",
       "      <td>1.000000</td>\n",
       "      <td>5.000000</td>\n",
       "      <td>1197.00000</td>\n",
       "      <td>16.800000</td>\n",
       "      <td>68.100000</td>\n",
       "    </tr>\n",
       "    <tr>\n",
       "      <th>50%</th>\n",
       "      <td>2015.000000</td>\n",
       "      <td>4.500000e+05</td>\n",
       "      <td>6.000000e+04</td>\n",
       "      <td>1.000000</td>\n",
       "      <td>5.000000</td>\n",
       "      <td>1248.00000</td>\n",
       "      <td>19.418783</td>\n",
       "      <td>83.100000</td>\n",
       "    </tr>\n",
       "    <tr>\n",
       "      <th>75%</th>\n",
       "      <td>2017.000000</td>\n",
       "      <td>6.750000e+05</td>\n",
       "      <td>9.800000e+04</td>\n",
       "      <td>2.000000</td>\n",
       "      <td>5.000000</td>\n",
       "      <td>1582.00000</td>\n",
       "      <td>22.277500</td>\n",
       "      <td>101.250000</td>\n",
       "    </tr>\n",
       "    <tr>\n",
       "      <th>max</th>\n",
       "      <td>2020.000000</td>\n",
       "      <td>1.000000e+07</td>\n",
       "      <td>2.360457e+06</td>\n",
       "      <td>4.000000</td>\n",
       "      <td>14.000000</td>\n",
       "      <td>3604.00000</td>\n",
       "      <td>42.000000</td>\n",
       "      <td>400.000000</td>\n",
       "    </tr>\n",
       "  </tbody>\n",
       "</table>\n",
       "</div>"
      ],
      "text/plain": [
       "              year  selling_price     km_driven        owner        seats  \\\n",
       "count  8128.000000   8.128000e+03  8.128000e+03  8128.000000  8128.000000   \n",
       "mean   2013.804011   6.382718e+05  6.981951e+04     1.459154     5.405389   \n",
       "std       4.044249   8.062534e+05  5.655055e+04     0.717381     0.948874   \n",
       "min    1983.000000   2.999900e+04  1.000000e+00     0.000000     2.000000   \n",
       "25%    2011.000000   2.549990e+05  3.500000e+04     1.000000     5.000000   \n",
       "50%    2015.000000   4.500000e+05  6.000000e+04     1.000000     5.000000   \n",
       "75%    2017.000000   6.750000e+05  9.800000e+04     2.000000     5.000000   \n",
       "max    2020.000000   1.000000e+07  2.360457e+06     4.000000    14.000000   \n",
       "\n",
       "        engine_CC  mileage_Kmpl  max_power_bnb  \n",
       "count  8128.00000   8128.000000    8128.000000  \n",
       "mean   1452.89813     19.418783      91.517919  \n",
       "std     498.19672      3.981875      35.343246  \n",
       "min     624.00000      0.000000       0.000000  \n",
       "25%    1197.00000     16.800000      68.100000  \n",
       "50%    1248.00000     19.418783      83.100000  \n",
       "75%    1582.00000     22.277500     101.250000  \n",
       "max    3604.00000     42.000000     400.000000  "
      ]
     },
     "execution_count": 23,
     "metadata": {},
     "output_type": "execute_result"
    }
   ],
   "source": [
    "df.describe()"
   ]
  },
  {
   "cell_type": "markdown",
   "id": "7831cefb",
   "metadata": {},
   "source": [
    "# Data Scalling for numarical values\n",
    "\n",
    "\n",
    "\n",
    "#### Approach: Replace original values by (original value) / (maximum value)"
   ]
  },
  {
   "cell_type": "code",
   "execution_count": 24,
   "id": "4fddf40d",
   "metadata": {},
   "outputs": [],
   "source": [
    "#normalize seats column\n",
    "df['seats']= df['seats'] /df['seats'].max()"
   ]
  },
  {
   "cell_type": "code",
   "execution_count": 25,
   "id": "09d574d9",
   "metadata": {},
   "outputs": [],
   "source": [
    "#normalize km_driven column\n",
    "df['km_driven'] = df['km_driven'] /df['km_driven'].max()"
   ]
  },
  {
   "cell_type": "code",
   "execution_count": 26,
   "id": "0bb7e10c",
   "metadata": {},
   "outputs": [],
   "source": [
    "#normalize mileage_Kmpl column\n",
    "df['mileage_Kmpl'] = df['mileage_Kmpl'] /df['mileage_Kmpl'].max()"
   ]
  },
  {
   "cell_type": "code",
   "execution_count": 27,
   "id": "da0f76fc",
   "metadata": {},
   "outputs": [],
   "source": [
    "#normailze owner column\n",
    "df['owner'] = (df['owner'] /df['owner'].max())"
   ]
  },
  {
   "cell_type": "code",
   "execution_count": 28,
   "id": "ef475578",
   "metadata": {},
   "outputs": [],
   "source": [
    "#normailze engine_CC column\n",
    "df['engine_CC'] = df['engine_CC'] /df['engine_CC'].max()"
   ]
  },
  {
   "cell_type": "code",
   "execution_count": 30,
   "id": "4603d98c",
   "metadata": {},
   "outputs": [],
   "source": [
    "#normailze max_power_bnb column\n",
    "df['max_power_bnb'] = df['max_power_bnb'] /df['max_power_bnb'].max()"
   ]
  },
  {
   "cell_type": "markdown",
   "id": "436fd1bf",
   "metadata": {},
   "source": [
    "## Binning"
   ]
  },
  {
   "cell_type": "code",
   "execution_count": 31,
   "id": "3f7372dd",
   "metadata": {},
   "outputs": [
    {
     "data": {
      "text/plain": [
       "Text(0.5, 1.0, 'Max Power Bins')"
      ]
     },
     "execution_count": 31,
     "metadata": {},
     "output_type": "execute_result"
    },
    {
     "data": {
      "image/png": "[encoded data removed]",
      "text/plain": [
       "<Figure size 432x288 with 1 Axes>"
      ]
     },
     "metadata": {
      "needs_background": "light"
     },
     "output_type": "display_data"
    }
   ],
   "source": [
    "# plot Max power\n",
    "plt.hist(df['max_power_bnb'])\n",
    "\n",
    "#set labels\n",
    "plt.xlabel('Max Power (bnb)')\n",
    "plt.ylabel('Count')\n",
    "plt.title('Max Power Bins')"
   ]
  },
  {
   "cell_type": "code",
   "execution_count": 32,
   "id": "d848e3a3",
   "metadata": {},
   "outputs": [
    {
     "data": {
      "text/plain": [
       "Text(0.5, 1.0, 'Max Power Bins')"
      ]
     },
     "execution_count": 32,
     "metadata": {},
     "output_type": "execute_result"
    },
    {
     "data": {
      "image/png": "[encoded data removed]",
      "text/plain": [
       "<Figure size 432x288 with 1 Axes>"
      ]
     },
     "metadata": {
      "needs_background": "light"
     },
     "output_type": "display_data"
    }
   ],
   "source": [
    "bins =  np.linspace(min(df['max_power_bnb']), max(df['max_power_bnb']),4)\n",
    "\n",
    "group_names = ['Low', 'Medium' , 'High']\n",
    "\n",
    "df['max_power_binned'] = pd.cut(df['max_power_bnb'], bins, labels=group_names, include_lowest=True)\n",
    "\n",
    "plt.bar(group_names, df['max_power_binned'].value_counts())\n",
    "\n",
    "#set labels\n",
    "plt.xlabel('Max Power (bnb)')\n",
    "plt.ylabel('Count')\n",
    "plt.title('Max Power Bins')"
   ]
  },
  {
   "cell_type": "markdown",
   "id": "dfae93d4",
   "metadata": {},
   "source": [
    "# Analyzing individual Feature Patterns Using Visualization"
   ]
  },
  {
   "cell_type": "code",
   "execution_count": 33,
   "id": "a6aede9e",
   "metadata": {},
   "outputs": [
    {
     "data": {
      "text/html": [
       "<div>\n",
       "<style scoped>\n",
       "    .dataframe tbody tr th:only-of-type {\n",
       "        vertical-align: middle;\n",
       "    }\n",
       "\n",
       "    .dataframe tbody tr th {\n",
       "        vertical-align: top;\n",
       "    }\n",
       "\n",
       "    .dataframe thead th {\n",
       "        text-align: right;\n",
       "    }\n",
       "</style>\n",
       "<table border=\"1\" class=\"dataframe\">\n",
       "  <thead>\n",
       "    <tr style=\"text-align: right;\">\n",
       "      <th></th>\n",
       "      <th>year</th>\n",
       "      <th>selling_price</th>\n",
       "      <th>km_driven</th>\n",
       "      <th>owner</th>\n",
       "      <th>seats</th>\n",
       "      <th>engine_CC</th>\n",
       "      <th>mileage_Kmpl</th>\n",
       "      <th>max_power_bnb</th>\n",
       "    </tr>\n",
       "  </thead>\n",
       "  <tbody>\n",
       "    <tr>\n",
       "      <th>year</th>\n",
       "      <td>1.000000</td>\n",
       "      <td>0.414092</td>\n",
       "      <td>-0.418006</td>\n",
       "      <td>-0.513541</td>\n",
       "      <td>0.010222</td>\n",
       "      <td>0.035851</td>\n",
       "      <td>0.310383</td>\n",
       "      <td>0.213282</td>\n",
       "    </tr>\n",
       "    <tr>\n",
       "      <th>selling_price</th>\n",
       "      <td>0.414092</td>\n",
       "      <td>1.000000</td>\n",
       "      <td>-0.225534</td>\n",
       "      <td>-0.243316</td>\n",
       "      <td>0.047135</td>\n",
       "      <td>0.458345</td>\n",
       "      <td>-0.125454</td>\n",
       "      <td>0.744958</td>\n",
       "    </tr>\n",
       "    <tr>\n",
       "      <th>km_driven</th>\n",
       "      <td>-0.418006</td>\n",
       "      <td>-0.225534</td>\n",
       "      <td>1.000000</td>\n",
       "      <td>0.288681</td>\n",
       "      <td>0.219860</td>\n",
       "      <td>0.198911</td>\n",
       "      <td>-0.171426</td>\n",
       "      <td>-0.037714</td>\n",
       "    </tr>\n",
       "    <tr>\n",
       "      <th>owner</th>\n",
       "      <td>-0.513541</td>\n",
       "      <td>-0.243316</td>\n",
       "      <td>0.288681</td>\n",
       "      <td>1.000000</td>\n",
       "      <td>0.019900</td>\n",
       "      <td>-0.003687</td>\n",
       "      <td>-0.168343</td>\n",
       "      <td>-0.109619</td>\n",
       "    </tr>\n",
       "    <tr>\n",
       "      <th>seats</th>\n",
       "      <td>0.010222</td>\n",
       "      <td>0.047135</td>\n",
       "      <td>0.219860</td>\n",
       "      <td>0.019900</td>\n",
       "      <td>1.000000</td>\n",
       "      <td>0.612220</td>\n",
       "      <td>-0.450930</td>\n",
       "      <td>0.191785</td>\n",
       "    </tr>\n",
       "    <tr>\n",
       "      <th>engine_CC</th>\n",
       "      <td>0.035851</td>\n",
       "      <td>0.458345</td>\n",
       "      <td>0.198911</td>\n",
       "      <td>-0.003687</td>\n",
       "      <td>0.612220</td>\n",
       "      <td>1.000000</td>\n",
       "      <td>-0.574469</td>\n",
       "      <td>0.701298</td>\n",
       "    </tr>\n",
       "    <tr>\n",
       "      <th>mileage_Kmpl</th>\n",
       "      <td>0.310383</td>\n",
       "      <td>-0.125454</td>\n",
       "      <td>-0.171426</td>\n",
       "      <td>-0.168343</td>\n",
       "      <td>-0.450930</td>\n",
       "      <td>-0.574469</td>\n",
       "      <td>1.000000</td>\n",
       "      <td>-0.373586</td>\n",
       "    </tr>\n",
       "    <tr>\n",
       "      <th>max_power_bnb</th>\n",
       "      <td>0.213282</td>\n",
       "      <td>0.744958</td>\n",
       "      <td>-0.037714</td>\n",
       "      <td>-0.109619</td>\n",
       "      <td>0.191785</td>\n",
       "      <td>0.701298</td>\n",
       "      <td>-0.373586</td>\n",
       "      <td>1.000000</td>\n",
       "    </tr>\n",
       "  </tbody>\n",
       "</table>\n",
       "</div>"
      ],
      "text/plain": [
       "                   year  selling_price  km_driven     owner     seats  \\\n",
       "year           1.000000       0.414092  -0.418006 -0.513541  0.010222   \n",
       "selling_price  0.414092       1.000000  -0.225534 -0.243316  0.047135   \n",
       "km_driven     -0.418006      -0.225534   1.000000  0.288681  0.219860   \n",
       "owner         -0.513541      -0.243316   0.288681  1.000000  0.019900   \n",
       "seats          0.010222       0.047135   0.219860  0.019900  1.000000   \n",
       "engine_CC      0.035851       0.458345   0.198911 -0.003687  0.612220   \n",
       "mileage_Kmpl   0.310383      -0.125454  -0.171426 -0.168343 -0.450930   \n",
       "max_power_bnb  0.213282       0.744958  -0.037714 -0.109619  0.191785   \n",
       "\n",
       "               engine_CC  mileage_Kmpl  max_power_bnb  \n",
       "year            0.035851      0.310383       0.213282  \n",
       "selling_price   0.458345     -0.125454       0.744958  \n",
       "km_driven       0.198911     -0.171426      -0.037714  \n",
       "owner          -0.003687     -0.168343      -0.109619  \n",
       "seats           0.612220     -0.450930       0.191785  \n",
       "engine_CC       1.000000     -0.574469       0.701298  \n",
       "mileage_Kmpl   -0.574469      1.000000      -0.373586  \n",
       "max_power_bnb   0.701298     -0.373586       1.000000  "
      ]
     },
     "execution_count": 33,
     "metadata": {},
     "output_type": "execute_result"
    }
   ],
   "source": [
    "#show corrolation between continues values\n",
    "df.corr()"
   ]
  },
  {
   "cell_type": "code",
   "execution_count": 34,
   "id": "f12c8fd9",
   "metadata": {},
   "outputs": [
    {
     "data": {
      "text/plain": [
       "Text(0.5, 1.0, 'Engine As Potential Predictor Variable Of Price')"
      ]
     },
     "execution_count": 34,
     "metadata": {},
     "output_type": "execute_result"
    },
    {
     "data": {
      "image/png": "[encoded data removed]",
      "text/plain": [
       "<Figure size 432x288 with 1 Axes>"
      ]
     },
     "metadata": {
      "needs_background": "light"
     },
     "output_type": "display_data"
    }
   ],
   "source": [
    "# engine as potential predictor variable of price\n",
    "sns.regplot(x='engine_CC', y='selling_price', data=df)\n",
    "\n",
    "#Set labels\n",
    "plt.xlabel('Engine (CC)')\n",
    "plt.ylabel('Selling price ($)')\n",
    "plt.title('Engine As Potential Predictor Variable Of Price')"
   ]
  },
  {
   "cell_type": "code",
   "execution_count": 35,
   "id": "4a88a34a",
   "metadata": {},
   "outputs": [
    {
     "data": {
      "text/html": [
       "<div>\n",
       "<style scoped>\n",
       "    .dataframe tbody tr th:only-of-type {\n",
       "        vertical-align: middle;\n",
       "    }\n",
       "\n",
       "    .dataframe tbody tr th {\n",
       "        vertical-align: top;\n",
       "    }\n",
       "\n",
       "    .dataframe thead th {\n",
       "        text-align: right;\n",
       "    }\n",
       "</style>\n",
       "<table border=\"1\" class=\"dataframe\">\n",
       "  <thead>\n",
       "    <tr style=\"text-align: right;\">\n",
       "      <th></th>\n",
       "      <th>engine_CC</th>\n",
       "      <th>selling_price</th>\n",
       "    </tr>\n",
       "  </thead>\n",
       "  <tbody>\n",
       "    <tr>\n",
       "      <th>engine_CC</th>\n",
       "      <td>1.000000</td>\n",
       "      <td>0.458345</td>\n",
       "    </tr>\n",
       "    <tr>\n",
       "      <th>selling_price</th>\n",
       "      <td>0.458345</td>\n",
       "      <td>1.000000</td>\n",
       "    </tr>\n",
       "  </tbody>\n",
       "</table>\n",
       "</div>"
      ],
      "text/plain": [
       "               engine_CC  selling_price\n",
       "engine_CC       1.000000       0.458345\n",
       "selling_price   0.458345       1.000000"
      ]
     },
     "execution_count": 35,
     "metadata": {},
     "output_type": "execute_result"
    }
   ],
   "source": [
    "#show correlation between engine and selling_price\n",
    "df[['engine_CC', 'selling_price']].corr()"
   ]
  },
  {
   "cell_type": "markdown",
   "id": "cd6adb0c",
   "metadata": {},
   "source": [
    "*There are two Insights in this visualiztion*\n",
    "* frist engine variable needs to normalization  \n",
    "* Second When engine value goes up, the price goues up: this indicates a positive direct correlation between these two      variables.\n",
    "* Engine seems like good predictor of price since regression line is a perfect line  "
   ]
  },
  {
   "cell_type": "code",
   "execution_count": 36,
   "id": "bb203250",
   "metadata": {},
   "outputs": [
    {
     "data": {
      "text/plain": [
       "Text(0.5, 1.0, 'Maximum Power As Potential Predictor Variable Of Price')"
      ]
     },
     "execution_count": 36,
     "metadata": {},
     "output_type": "execute_result"
    },
    {
     "data": {
      "image/png": "[encoded data removed]",
      "text/plain": [
       "<Figure size 432x288 with 1 Axes>"
      ]
     },
     "metadata": {
      "needs_background": "light"
     },
     "output_type": "display_data"
    }
   ],
   "source": [
    "# Maximum Power as potential predictor variable of price\n",
    "sns.regplot(x='max_power_bnb', y='selling_price', data=df)\n",
    "\n",
    "#Set labels\n",
    "plt.xlabel('Max Power (bnb)')\n",
    "plt.ylabel('Selling price ($)')\n",
    "plt.title('Maximum Power As Potential Predictor Variable Of Price')"
   ]
  },
  {
   "cell_type": "code",
   "execution_count": 37,
   "id": "13f9f1a0",
   "metadata": {},
   "outputs": [
    {
     "data": {
      "text/html": [
       "<div>\n",
       "<style scoped>\n",
       "    .dataframe tbody tr th:only-of-type {\n",
       "        vertical-align: middle;\n",
       "    }\n",
       "\n",
       "    .dataframe tbody tr th {\n",
       "        vertical-align: top;\n",
       "    }\n",
       "\n",
       "    .dataframe thead th {\n",
       "        text-align: right;\n",
       "    }\n",
       "</style>\n",
       "<table border=\"1\" class=\"dataframe\">\n",
       "  <thead>\n",
       "    <tr style=\"text-align: right;\">\n",
       "      <th></th>\n",
       "      <th>max_power_bnb</th>\n",
       "      <th>selling_price</th>\n",
       "    </tr>\n",
       "  </thead>\n",
       "  <tbody>\n",
       "    <tr>\n",
       "      <th>max_power_bnb</th>\n",
       "      <td>1.000000</td>\n",
       "      <td>0.744958</td>\n",
       "    </tr>\n",
       "    <tr>\n",
       "      <th>selling_price</th>\n",
       "      <td>0.744958</td>\n",
       "      <td>1.000000</td>\n",
       "    </tr>\n",
       "  </tbody>\n",
       "</table>\n",
       "</div>"
      ],
      "text/plain": [
       "               max_power_bnb  selling_price\n",
       "max_power_bnb       1.000000       0.744958\n",
       "selling_price       0.744958       1.000000"
      ]
     },
     "execution_count": 37,
     "metadata": {},
     "output_type": "execute_result"
    }
   ],
   "source": [
    "#show correlation between max power and selling price\n",
    "df[['max_power_bnb', 'selling_price']].corr()"
   ]
  },
  {
   "cell_type": "markdown",
   "id": "e5182a31",
   "metadata": {},
   "source": [
    "* When maximum power goes up, the price goues up: this indicates a positive direct correlation between these two  variables.\n",
    "* Engine seems like a pretty good predictor of price since regression line is almost a perfect line  "
   ]
  },
  {
   "cell_type": "code",
   "execution_count": 38,
   "id": "8477878e",
   "metadata": {},
   "outputs": [
    {
     "data": {
      "text/plain": [
       "Text(0.5, 1.0, 'Mileage As Potential Predictor Variable Of Price')"
      ]
     },
     "execution_count": 38,
     "metadata": {},
     "output_type": "execute_result"
    },
    {
     "data": {
      "image/png": "[encoded data removed]",
      "text/plain": [
       "<Figure size 432x288 with 1 Axes>"
      ]
     },
     "metadata": {
      "needs_background": "light"
     },
     "output_type": "display_data"
    }
   ],
   "source": [
    "# Maximum Power as potential predictor variable of price\n",
    "sns.regplot(x='mileage_Kmpl', y='selling_price', data=df)\n",
    "\n",
    "#Set labels\n",
    "plt.xlabel('Mileage (KMPL)')\n",
    "plt.ylabel('Selling price ($)')\n",
    "plt.title('Mileage As Potential Predictor Variable Of Price')"
   ]
  },
  {
   "cell_type": "markdown",
   "id": "9dfc0058",
   "metadata": {},
   "source": [
    "***cann't take insight from plot***\n",
    "* Therefore I calculate correlation "
   ]
  },
  {
   "cell_type": "code",
   "execution_count": 39,
   "id": "b1ea9123",
   "metadata": {},
   "outputs": [
    {
     "data": {
      "text/html": [
       "<div>\n",
       "<style scoped>\n",
       "    .dataframe tbody tr th:only-of-type {\n",
       "        vertical-align: middle;\n",
       "    }\n",
       "\n",
       "    .dataframe tbody tr th {\n",
       "        vertical-align: top;\n",
       "    }\n",
       "\n",
       "    .dataframe thead th {\n",
       "        text-align: right;\n",
       "    }\n",
       "</style>\n",
       "<table border=\"1\" class=\"dataframe\">\n",
       "  <thead>\n",
       "    <tr style=\"text-align: right;\">\n",
       "      <th></th>\n",
       "      <th>mileage_Kmpl</th>\n",
       "      <th>selling_price</th>\n",
       "    </tr>\n",
       "  </thead>\n",
       "  <tbody>\n",
       "    <tr>\n",
       "      <th>mileage_Kmpl</th>\n",
       "      <td>1.000000</td>\n",
       "      <td>-0.125454</td>\n",
       "    </tr>\n",
       "    <tr>\n",
       "      <th>selling_price</th>\n",
       "      <td>-0.125454</td>\n",
       "      <td>1.000000</td>\n",
       "    </tr>\n",
       "  </tbody>\n",
       "</table>\n",
       "</div>"
      ],
      "text/plain": [
       "               mileage_Kmpl  selling_price\n",
       "mileage_Kmpl       1.000000      -0.125454\n",
       "selling_price     -0.125454       1.000000"
      ]
     },
     "execution_count": 39,
     "metadata": {},
     "output_type": "execute_result"
    }
   ],
   "source": [
    "#show corrolation between mileage (KMMPL) and selling price\n",
    "df[['mileage_Kmpl', 'selling_price']].corr()"
   ]
  },
  {
   "cell_type": "markdown",
   "id": "5709e3ef",
   "metadata": {},
   "source": [
    " As mileage_Kmpl does not seem like a good predictor of the price at all since the line is close to horizontal. Therefore it is not a reliable variable"
   ]
  },
  {
   "cell_type": "code",
   "execution_count": 40,
   "id": "5a7e8a7b",
   "metadata": {},
   "outputs": [
    {
     "data": {
      "text/plain": [
       "Text(0.5, 1.0, 'Seats As Potential Predictor Variable Of Price')"
      ]
     },
     "execution_count": 40,
     "metadata": {},
     "output_type": "execute_result"
    },
    {
     "data": {
      "image/png": "[encoded data removed]",
      "text/plain": [
       "<Figure size 432x288 with 1 Axes>"
      ]
     },
     "metadata": {
      "needs_background": "light"
     },
     "output_type": "display_data"
    }
   ],
   "source": [
    "# Seats as potential predictor variable of price\n",
    "sns.regplot(x='seats', y='selling_price', data=df)\n",
    "\n",
    "#Set labels\n",
    "plt.xlabel('Seats')\n",
    "plt.ylabel('Selling price ($)')\n",
    "plt.title('Seats As Potential Predictor Variable Of Price')"
   ]
  },
  {
   "cell_type": "code",
   "execution_count": 41,
   "id": "afe7f76d",
   "metadata": {},
   "outputs": [
    {
     "data": {
      "text/html": [
       "<div>\n",
       "<style scoped>\n",
       "    .dataframe tbody tr th:only-of-type {\n",
       "        vertical-align: middle;\n",
       "    }\n",
       "\n",
       "    .dataframe tbody tr th {\n",
       "        vertical-align: top;\n",
       "    }\n",
       "\n",
       "    .dataframe thead th {\n",
       "        text-align: right;\n",
       "    }\n",
       "</style>\n",
       "<table border=\"1\" class=\"dataframe\">\n",
       "  <thead>\n",
       "    <tr style=\"text-align: right;\">\n",
       "      <th></th>\n",
       "      <th>seats</th>\n",
       "      <th>selling_price</th>\n",
       "    </tr>\n",
       "  </thead>\n",
       "  <tbody>\n",
       "    <tr>\n",
       "      <th>seats</th>\n",
       "      <td>1.000000</td>\n",
       "      <td>0.047135</td>\n",
       "    </tr>\n",
       "    <tr>\n",
       "      <th>selling_price</th>\n",
       "      <td>0.047135</td>\n",
       "      <td>1.000000</td>\n",
       "    </tr>\n",
       "  </tbody>\n",
       "</table>\n",
       "</div>"
      ],
      "text/plain": [
       "                  seats  selling_price\n",
       "seats          1.000000       0.047135\n",
       "selling_price  0.047135       1.000000"
      ]
     },
     "execution_count": 41,
     "metadata": {},
     "output_type": "execute_result"
    }
   ],
   "source": [
    "#calculate the correlation between seats and selling_price\n",
    "df[[\"seats\", 'selling_price']].corr()"
   ]
  },
  {
   "cell_type": "markdown",
   "id": "4f5ddba9",
   "metadata": {},
   "source": [
    " As Seats does not seem like a good predictor of the price at all since the line is close to horizontal. Also, the data points are very scattered and far from the fitted line Therefore it is not a reliable variable. "
   ]
  },
  {
   "cell_type": "code",
   "execution_count": 42,
   "id": "42c57129",
   "metadata": {},
   "outputs": [
    {
     "data": {
      "text/plain": [
       "Text(0.5, 1.0, 'Year As Potential Predictor Variable Of Price')"
      ]
     },
     "execution_count": 42,
     "metadata": {},
     "output_type": "execute_result"
    },
    {
     "data": {
      "image/png": "[encoded data removed]",
      "text/plain": [
       "<Figure size 432x288 with 1 Axes>"
      ]
     },
     "metadata": {
      "needs_background": "light"
     },
     "output_type": "display_data"
    }
   ],
   "source": [
    "# Seats as potential predictor variable of price\n",
    "sns.regplot(x='year', y='selling_price', data=df)\n",
    "\n",
    "#Set labels\n",
    "plt.xlabel('Year')\n",
    "plt.ylabel('Selling price ($)')\n",
    "plt.title('Year As Potential Predictor Variable Of Price')"
   ]
  },
  {
   "cell_type": "code",
   "execution_count": 43,
   "id": "25b91d9f",
   "metadata": {},
   "outputs": [
    {
     "data": {
      "text/html": [
       "<div>\n",
       "<style scoped>\n",
       "    .dataframe tbody tr th:only-of-type {\n",
       "        vertical-align: middle;\n",
       "    }\n",
       "\n",
       "    .dataframe tbody tr th {\n",
       "        vertical-align: top;\n",
       "    }\n",
       "\n",
       "    .dataframe thead th {\n",
       "        text-align: right;\n",
       "    }\n",
       "</style>\n",
       "<table border=\"1\" class=\"dataframe\">\n",
       "  <thead>\n",
       "    <tr style=\"text-align: right;\">\n",
       "      <th></th>\n",
       "      <th>year</th>\n",
       "      <th>selling_price</th>\n",
       "    </tr>\n",
       "  </thead>\n",
       "  <tbody>\n",
       "    <tr>\n",
       "      <th>year</th>\n",
       "      <td>1.000000</td>\n",
       "      <td>0.414092</td>\n",
       "    </tr>\n",
       "    <tr>\n",
       "      <th>selling_price</th>\n",
       "      <td>0.414092</td>\n",
       "      <td>1.000000</td>\n",
       "    </tr>\n",
       "  </tbody>\n",
       "</table>\n",
       "</div>"
      ],
      "text/plain": [
       "                   year  selling_price\n",
       "year           1.000000       0.414092\n",
       "selling_price  0.414092       1.000000"
      ]
     },
     "execution_count": 43,
     "metadata": {},
     "output_type": "execute_result"
    }
   ],
   "source": [
    "#calculate correlation between years and selling price\n",
    "df[[\"year\", 'selling_price']].corr()"
   ]
  },
  {
   "cell_type": "markdown",
   "id": "e5825956",
   "metadata": {},
   "source": [
    "* When Years goes up, the price goues up: this indicates a positive direct correlation between these two  variables.\n",
    "* Year seems like a pretty good predictor of price "
   ]
  },
  {
   "cell_type": "code",
   "execution_count": 44,
   "id": "2ef7b4e2",
   "metadata": {},
   "outputs": [
    {
     "data": {
      "text/plain": [
       "Text(0.5, 1.0, 'Owner As Potential Predictor Variable Of Price')"
      ]
     },
     "execution_count": 44,
     "metadata": {},
     "output_type": "execute_result"
    },
    {
     "data": {
      "image/png": "[encoded data removed]",
      "text/plain": [
       "<Figure size 432x288 with 1 Axes>"
      ]
     },
     "metadata": {
      "needs_background": "light"
     },
     "output_type": "display_data"
    }
   ],
   "source": [
    "# Maximum Power as potential predictor variable of price\n",
    "sns.regplot(x='owner', y='selling_price', data=df)\n",
    "\n",
    "#Set labels\n",
    "plt.xlabel('Owner ')\n",
    "plt.ylabel('Selling price ($)')\n",
    "plt.title('Owner As Potential Predictor Variable Of Price')"
   ]
  },
  {
   "cell_type": "code",
   "execution_count": 45,
   "id": "b739498c",
   "metadata": {},
   "outputs": [
    {
     "data": {
      "text/html": [
       "<div>\n",
       "<style scoped>\n",
       "    .dataframe tbody tr th:only-of-type {\n",
       "        vertical-align: middle;\n",
       "    }\n",
       "\n",
       "    .dataframe tbody tr th {\n",
       "        vertical-align: top;\n",
       "    }\n",
       "\n",
       "    .dataframe thead th {\n",
       "        text-align: right;\n",
       "    }\n",
       "</style>\n",
       "<table border=\"1\" class=\"dataframe\">\n",
       "  <thead>\n",
       "    <tr style=\"text-align: right;\">\n",
       "      <th></th>\n",
       "      <th>owner</th>\n",
       "      <th>selling_price</th>\n",
       "    </tr>\n",
       "  </thead>\n",
       "  <tbody>\n",
       "    <tr>\n",
       "      <th>owner</th>\n",
       "      <td>1.000000</td>\n",
       "      <td>-0.243316</td>\n",
       "    </tr>\n",
       "    <tr>\n",
       "      <th>selling_price</th>\n",
       "      <td>-0.243316</td>\n",
       "      <td>1.000000</td>\n",
       "    </tr>\n",
       "  </tbody>\n",
       "</table>\n",
       "</div>"
      ],
      "text/plain": [
       "                  owner  selling_price\n",
       "owner          1.000000      -0.243316\n",
       "selling_price -0.243316       1.000000"
      ]
     },
     "execution_count": 45,
     "metadata": {},
     "output_type": "execute_result"
    }
   ],
   "source": [
    "#calculate correlation between owner and selling price\n",
    "df[[\"owner\", 'selling_price']].corr()"
   ]
  },
  {
   "cell_type": "code",
   "execution_count": 46,
   "id": "959e635c",
   "metadata": {},
   "outputs": [
    {
     "data": {
      "text/plain": [
       "Text(0.5, 1.0, 'Km Driven As Potential Predictor Variable Of Price')"
      ]
     },
     "execution_count": 46,
     "metadata": {},
     "output_type": "execute_result"
    },
    {
     "data": {
      "image/png": "[encoded data removed]",
      "text/plain": [
       "<Figure size 432x288 with 1 Axes>"
      ]
     },
     "metadata": {
      "needs_background": "light"
     },
     "output_type": "display_data"
    }
   ],
   "source": [
    "# Seats as potential predictor variable of price\n",
    "sns.regplot(x='selling_price', y='km_driven', data=df)\n",
    "\n",
    "#Set labels\n",
    "plt.xlabel('Km Driven')\n",
    "plt.ylabel('Selling price ($)')\n",
    "plt.title('Km Driven As Potential Predictor Variable Of Price')"
   ]
  },
  {
   "cell_type": "code",
   "execution_count": 47,
   "id": "932649d2",
   "metadata": {
    "scrolled": true
   },
   "outputs": [
    {
     "data": {
      "text/html": [
       "<div>\n",
       "<style scoped>\n",
       "    .dataframe tbody tr th:only-of-type {\n",
       "        vertical-align: middle;\n",
       "    }\n",
       "\n",
       "    .dataframe tbody tr th {\n",
       "        vertical-align: top;\n",
       "    }\n",
       "\n",
       "    .dataframe thead th {\n",
       "        text-align: right;\n",
       "    }\n",
       "</style>\n",
       "<table border=\"1\" class=\"dataframe\">\n",
       "  <thead>\n",
       "    <tr style=\"text-align: right;\">\n",
       "      <th></th>\n",
       "      <th>selling_price</th>\n",
       "      <th>km_driven</th>\n",
       "    </tr>\n",
       "  </thead>\n",
       "  <tbody>\n",
       "    <tr>\n",
       "      <th>selling_price</th>\n",
       "      <td>1.000000</td>\n",
       "      <td>-0.225534</td>\n",
       "    </tr>\n",
       "    <tr>\n",
       "      <th>km_driven</th>\n",
       "      <td>-0.225534</td>\n",
       "      <td>1.000000</td>\n",
       "    </tr>\n",
       "  </tbody>\n",
       "</table>\n",
       "</div>"
      ],
      "text/plain": [
       "               selling_price  km_driven\n",
       "selling_price       1.000000  -0.225534\n",
       "km_driven          -0.225534   1.000000"
      ]
     },
     "execution_count": 47,
     "metadata": {},
     "output_type": "execute_result"
    }
   ],
   "source": [
    "# calculate correlation between km_driven and selling_price\n",
    "df[['selling_price', \"km_driven\"]].corr()"
   ]
  },
  {
   "cell_type": "markdown",
   "id": "bf88c938",
   "metadata": {},
   "source": [
    "### Categorical Variable"
   ]
  },
  {
   "cell_type": "code",
   "execution_count": 48,
   "id": "10952d1b",
   "metadata": {},
   "outputs": [
    {
     "data": {
      "text/plain": [
       "Text(0.5, 1.0, 'Fuel As Potential Predictor Variable Of Price')"
      ]
     },
     "execution_count": 48,
     "metadata": {},
     "output_type": "execute_result"
    },
    {
     "data": {
      "image/png": "[encoded data removed]",
      "text/plain": [
       "<Figure size 432x288 with 1 Axes>"
      ]
     },
     "metadata": {
      "needs_background": "light"
     },
     "output_type": "display_data"
    }
   ],
   "source": [
    "sns.boxplot(x='fuel', y='selling_price', data=df)\n",
    "\n",
    "#Set labels\n",
    "plt.xlabel('Fuel')\n",
    "plt.ylabel('Selling price ($)')\n",
    "plt.title('Fuel As Potential Predictor Variable Of Price')"
   ]
  },
  {
   "cell_type": "markdown",
   "id": "f6ae2ae1",
   "metadata": {},
   "source": [
    "we see that distributions   of price between the different fuel categories have a significant overlap, and so fuel would not be a good predictor of price "
   ]
  },
  {
   "cell_type": "code",
   "execution_count": 49,
   "id": "783091fc",
   "metadata": {},
   "outputs": [
    {
     "data": {
      "text/plain": [
       "Text(0.5, 1.0, 'Seller Type As Potential Predictor Variable Of Price')"
      ]
     },
     "execution_count": 49,
     "metadata": {},
     "output_type": "execute_result"
    },
    {
     "data": {
      "image/png": "[encoded data removed]",
      "text/plain": [
       "<Figure size 432x288 with 1 Axes>"
      ]
     },
     "metadata": {
      "needs_background": "light"
     },
     "output_type": "display_data"
    }
   ],
   "source": [
    "sns.boxplot(x='seller_type', y='selling_price', data=df)\n",
    "\n",
    "#Set labels\n",
    "plt.xlabel('Seller Type')\n",
    "plt.ylabel('Selling price ($)')\n",
    "plt.title('Seller Type As Potential Predictor Variable Of Price')"
   ]
  },
  {
   "cell_type": "markdown",
   "id": "76f25c73",
   "metadata": {},
   "source": [
    "Here we see that the distribution of price between the different seller type categories differs as such seller type could potentially be a predictor of price "
   ]
  },
  {
   "cell_type": "code",
   "execution_count": 50,
   "id": "49782e4d",
   "metadata": {},
   "outputs": [
    {
     "data": {
      "text/plain": [
       "Text(0.5, 1.0, 'Seller Type As Potential Predictor Variable Of Price')"
      ]
     },
     "execution_count": 50,
     "metadata": {},
     "output_type": "execute_result"
    },
    {
     "data": {
      "image/png": "[encoded data removed]",
      "text/plain": [
       "<Figure size 432x288 with 1 Axes>"
      ]
     },
     "metadata": {
      "needs_background": "light"
     },
     "output_type": "display_data"
    }
   ],
   "source": [
    "sns.boxplot(x='transmission', y='selling_price', data=df)\n",
    "\n",
    "#Set labels\n",
    "plt.xlabel('Transmission')\n",
    "plt.ylabel('Selling price ($)')\n",
    "plt.title('Seller Type As Potential Predictor Variable Of Price')"
   ]
  },
  {
   "cell_type": "markdown",
   "id": "6b8464b0",
   "metadata": {},
   "source": [
    "Here we see that The distributions between price these two Transmission categories, manual & automatic are distinct enough to Transmission as a potential good predictor of price"
   ]
  },
  {
   "cell_type": "markdown",
   "id": "a7370b5f",
   "metadata": {},
   "source": [
    "## Descriptive Statistical Analysis"
   ]
  },
  {
   "cell_type": "code",
   "execution_count": 51,
   "id": "b567f71b",
   "metadata": {},
   "outputs": [
    {
     "data": {
      "text/html": [
       "<div>\n",
       "<style scoped>\n",
       "    .dataframe tbody tr th:only-of-type {\n",
       "        vertical-align: middle;\n",
       "    }\n",
       "\n",
       "    .dataframe tbody tr th {\n",
       "        vertical-align: top;\n",
       "    }\n",
       "\n",
       "    .dataframe thead th {\n",
       "        text-align: right;\n",
       "    }\n",
       "</style>\n",
       "<table border=\"1\" class=\"dataframe\">\n",
       "  <thead>\n",
       "    <tr style=\"text-align: right;\">\n",
       "      <th></th>\n",
       "      <th>count</th>\n",
       "      <th>mean</th>\n",
       "      <th>std</th>\n",
       "      <th>min</th>\n",
       "      <th>25%</th>\n",
       "      <th>50%</th>\n",
       "      <th>75%</th>\n",
       "      <th>max</th>\n",
       "    </tr>\n",
       "  </thead>\n",
       "  <tbody>\n",
       "    <tr>\n",
       "      <th>year</th>\n",
       "      <td>8128.0</td>\n",
       "      <td>2013.804011</td>\n",
       "      <td>4.044249</td>\n",
       "      <td>1.983000e+03</td>\n",
       "      <td>2011.000000</td>\n",
       "      <td>2015.000000</td>\n",
       "      <td>2017.000000</td>\n",
       "      <td>2020.0</td>\n",
       "    </tr>\n",
       "    <tr>\n",
       "      <th>selling_price</th>\n",
       "      <td>8128.0</td>\n",
       "      <td>638271.807702</td>\n",
       "      <td>806253.403508</td>\n",
       "      <td>2.999900e+04</td>\n",
       "      <td>254999.000000</td>\n",
       "      <td>450000.000000</td>\n",
       "      <td>675000.000000</td>\n",
       "      <td>10000000.0</td>\n",
       "    </tr>\n",
       "    <tr>\n",
       "      <th>km_driven</th>\n",
       "      <td>8128.0</td>\n",
       "      <td>0.029579</td>\n",
       "      <td>0.023957</td>\n",
       "      <td>4.236468e-07</td>\n",
       "      <td>0.014828</td>\n",
       "      <td>0.025419</td>\n",
       "      <td>0.041517</td>\n",
       "      <td>1.0</td>\n",
       "    </tr>\n",
       "    <tr>\n",
       "      <th>owner</th>\n",
       "      <td>8128.0</td>\n",
       "      <td>0.364788</td>\n",
       "      <td>0.179345</td>\n",
       "      <td>0.000000e+00</td>\n",
       "      <td>0.250000</td>\n",
       "      <td>0.250000</td>\n",
       "      <td>0.500000</td>\n",
       "      <td>1.0</td>\n",
       "    </tr>\n",
       "    <tr>\n",
       "      <th>seats</th>\n",
       "      <td>8128.0</td>\n",
       "      <td>0.386099</td>\n",
       "      <td>0.067777</td>\n",
       "      <td>1.428571e-01</td>\n",
       "      <td>0.357143</td>\n",
       "      <td>0.357143</td>\n",
       "      <td>0.357143</td>\n",
       "      <td>1.0</td>\n",
       "    </tr>\n",
       "    <tr>\n",
       "      <th>engine_CC</th>\n",
       "      <td>8128.0</td>\n",
       "      <td>0.403135</td>\n",
       "      <td>0.138234</td>\n",
       "      <td>1.731410e-01</td>\n",
       "      <td>0.332131</td>\n",
       "      <td>0.346282</td>\n",
       "      <td>0.438957</td>\n",
       "      <td>1.0</td>\n",
       "    </tr>\n",
       "    <tr>\n",
       "      <th>mileage_Kmpl</th>\n",
       "      <td>8128.0</td>\n",
       "      <td>0.462352</td>\n",
       "      <td>0.094807</td>\n",
       "      <td>0.000000e+00</td>\n",
       "      <td>0.400000</td>\n",
       "      <td>0.462352</td>\n",
       "      <td>0.530417</td>\n",
       "      <td>1.0</td>\n",
       "    </tr>\n",
       "    <tr>\n",
       "      <th>max_power_bnb</th>\n",
       "      <td>8128.0</td>\n",
       "      <td>0.228795</td>\n",
       "      <td>0.088358</td>\n",
       "      <td>0.000000e+00</td>\n",
       "      <td>0.170250</td>\n",
       "      <td>0.207750</td>\n",
       "      <td>0.253125</td>\n",
       "      <td>1.0</td>\n",
       "    </tr>\n",
       "  </tbody>\n",
       "</table>\n",
       "</div>"
      ],
      "text/plain": [
       "                count           mean            std           min  \\\n",
       "year           8128.0    2013.804011       4.044249  1.983000e+03   \n",
       "selling_price  8128.0  638271.807702  806253.403508  2.999900e+04   \n",
       "km_driven      8128.0       0.029579       0.023957  4.236468e-07   \n",
       "owner          8128.0       0.364788       0.179345  0.000000e+00   \n",
       "seats          8128.0       0.386099       0.067777  1.428571e-01   \n",
       "engine_CC      8128.0       0.403135       0.138234  1.731410e-01   \n",
       "mileage_Kmpl   8128.0       0.462352       0.094807  0.000000e+00   \n",
       "max_power_bnb  8128.0       0.228795       0.088358  0.000000e+00   \n",
       "\n",
       "                         25%            50%            75%         max  \n",
       "year             2011.000000    2015.000000    2017.000000      2020.0  \n",
       "selling_price  254999.000000  450000.000000  675000.000000  10000000.0  \n",
       "km_driven           0.014828       0.025419       0.041517         1.0  \n",
       "owner               0.250000       0.250000       0.500000         1.0  \n",
       "seats               0.357143       0.357143       0.357143         1.0  \n",
       "engine_CC           0.332131       0.346282       0.438957         1.0  \n",
       "mileage_Kmpl        0.400000       0.462352       0.530417         1.0  \n",
       "max_power_bnb       0.170250       0.207750       0.253125         1.0  "
      ]
     },
     "execution_count": 51,
     "metadata": {},
     "output_type": "execute_result"
    }
   ],
   "source": [
    "# Descriptive Statistical Analysis for numerical values \n",
    "df.describe().T"
   ]
  },
  {
   "cell_type": "code",
   "execution_count": 52,
   "id": "e50b137e",
   "metadata": {},
   "outputs": [
    {
     "data": {
      "text/html": [
       "<div>\n",
       "<style scoped>\n",
       "    .dataframe tbody tr th:only-of-type {\n",
       "        vertical-align: middle;\n",
       "    }\n",
       "\n",
       "    .dataframe tbody tr th {\n",
       "        vertical-align: top;\n",
       "    }\n",
       "\n",
       "    .dataframe thead th {\n",
       "        text-align: right;\n",
       "    }\n",
       "</style>\n",
       "<table border=\"1\" class=\"dataframe\">\n",
       "  <thead>\n",
       "    <tr style=\"text-align: right;\">\n",
       "      <th></th>\n",
       "      <th>count</th>\n",
       "      <th>unique</th>\n",
       "      <th>top</th>\n",
       "      <th>freq</th>\n",
       "    </tr>\n",
       "  </thead>\n",
       "  <tbody>\n",
       "    <tr>\n",
       "      <th>fuel</th>\n",
       "      <td>8128</td>\n",
       "      <td>4</td>\n",
       "      <td>Diesel</td>\n",
       "      <td>4402</td>\n",
       "    </tr>\n",
       "    <tr>\n",
       "      <th>seller_type</th>\n",
       "      <td>8128</td>\n",
       "      <td>3</td>\n",
       "      <td>Individual</td>\n",
       "      <td>6766</td>\n",
       "    </tr>\n",
       "    <tr>\n",
       "      <th>transmission</th>\n",
       "      <td>8128</td>\n",
       "      <td>2</td>\n",
       "      <td>Manual</td>\n",
       "      <td>7078</td>\n",
       "    </tr>\n",
       "  </tbody>\n",
       "</table>\n",
       "</div>"
      ],
      "text/plain": [
       "             count unique         top  freq\n",
       "fuel          8128      4      Diesel  4402\n",
       "seller_type   8128      3  Individual  6766\n",
       "transmission  8128      2      Manual  7078"
      ]
     },
     "execution_count": 52,
     "metadata": {},
     "output_type": "execute_result"
    }
   ],
   "source": [
    "# Descriptive Statistical Analysis for categorical values \n",
    "df.describe(include=['object']).T"
   ]
  },
  {
   "cell_type": "code",
   "execution_count": 53,
   "id": "32aa606b",
   "metadata": {},
   "outputs": [
    {
     "data": {
      "text/html": [
       "<div>\n",
       "<style scoped>\n",
       "    .dataframe tbody tr th:only-of-type {\n",
       "        vertical-align: middle;\n",
       "    }\n",
       "\n",
       "    .dataframe tbody tr th {\n",
       "        vertical-align: top;\n",
       "    }\n",
       "\n",
       "    .dataframe thead th {\n",
       "        text-align: right;\n",
       "    }\n",
       "</style>\n",
       "<table border=\"1\" class=\"dataframe\">\n",
       "  <thead>\n",
       "    <tr style=\"text-align: right;\">\n",
       "      <th></th>\n",
       "      <th>value_counts</th>\n",
       "    </tr>\n",
       "    <tr>\n",
       "      <th>Fuel</th>\n",
       "      <th></th>\n",
       "    </tr>\n",
       "  </thead>\n",
       "  <tbody>\n",
       "    <tr>\n",
       "      <th>Diesel</th>\n",
       "      <td>4402</td>\n",
       "    </tr>\n",
       "    <tr>\n",
       "      <th>Petrol</th>\n",
       "      <td>3631</td>\n",
       "    </tr>\n",
       "    <tr>\n",
       "      <th>CNG</th>\n",
       "      <td>57</td>\n",
       "    </tr>\n",
       "    <tr>\n",
       "      <th>LPG</th>\n",
       "      <td>38</td>\n",
       "    </tr>\n",
       "  </tbody>\n",
       "</table>\n",
       "</div>"
      ],
      "text/plain": [
       "        value_counts\n",
       "Fuel                \n",
       "Diesel          4402\n",
       "Petrol          3631\n",
       "CNG               57\n",
       "LPG               38"
      ]
     },
     "execution_count": 53,
     "metadata": {},
     "output_type": "execute_result"
    }
   ],
   "source": [
    "Group_fuel = df['fuel'].value_counts().to_frame(name = 'value_counts')\n",
    "Group_fuel.index.name ='Fuel'\n",
    "Group_fuel"
   ]
  },
  {
   "cell_type": "code",
   "execution_count": 54,
   "id": "21921b2d",
   "metadata": {},
   "outputs": [
    {
     "data": {
      "text/html": [
       "<div>\n",
       "<style scoped>\n",
       "    .dataframe tbody tr th:only-of-type {\n",
       "        vertical-align: middle;\n",
       "    }\n",
       "\n",
       "    .dataframe tbody tr th {\n",
       "        vertical-align: top;\n",
       "    }\n",
       "\n",
       "    .dataframe thead th {\n",
       "        text-align: right;\n",
       "    }\n",
       "</style>\n",
       "<table border=\"1\" class=\"dataframe\">\n",
       "  <thead>\n",
       "    <tr style=\"text-align: right;\">\n",
       "      <th></th>\n",
       "      <th>value_counts</th>\n",
       "    </tr>\n",
       "    <tr>\n",
       "      <th>Fuel</th>\n",
       "      <th></th>\n",
       "    </tr>\n",
       "  </thead>\n",
       "  <tbody>\n",
       "    <tr>\n",
       "      <th>Individual</th>\n",
       "      <td>6766</td>\n",
       "    </tr>\n",
       "    <tr>\n",
       "      <th>Dealer</th>\n",
       "      <td>1126</td>\n",
       "    </tr>\n",
       "    <tr>\n",
       "      <th>Trustmark Dealer</th>\n",
       "      <td>236</td>\n",
       "    </tr>\n",
       "  </tbody>\n",
       "</table>\n",
       "</div>"
      ],
      "text/plain": [
       "                  value_counts\n",
       "Fuel                          \n",
       "Individual                6766\n",
       "Dealer                    1126\n",
       "Trustmark Dealer           236"
      ]
     },
     "execution_count": 54,
     "metadata": {},
     "output_type": "execute_result"
    }
   ],
   "source": [
    "# group based on seller_type\n",
    "group_seller_type=df.seller_type.value_counts().to_frame(name = 'value_counts')\n",
    "\n",
    "#name index\n",
    "group_seller_type.index.name ='Fuel'\n",
    "\n",
    "# print\n",
    "group_seller_type"
   ]
  },
  {
   "cell_type": "code",
   "execution_count": 55,
   "id": "f66e66be",
   "metadata": {},
   "outputs": [
    {
     "data": {
      "text/plain": [
       "Text(0.5, 1.0, 'Avg. Of Price Based on Type Of Fuel')"
      ]
     },
     "execution_count": 55,
     "metadata": {},
     "output_type": "execute_result"
    },
    {
     "data": {
      "image/png": "[encoded data removed]",
      "text/plain": [
       "<Figure size 432x288 with 1 Axes>"
      ]
     },
     "metadata": {
      "needs_background": "light"
     },
     "output_type": "display_data"
    }
   ],
   "source": [
    "pd.DataFrame(df.groupby(['fuel'])['selling_price'].mean()).sort_values(by='selling_price',ascending=True).plot(kind='barh')\n",
    "plt.xlabel('Avg. Of Price')\n",
    "plt.ylabel('Type Of Fuel')\n",
    "plt.title('Avg. Of Price Based on Type Of Fuel')"
   ]
  },
  {
   "cell_type": "code",
   "execution_count": 56,
   "id": "7ef6c471",
   "metadata": {},
   "outputs": [
    {
     "data": {
      "text/plain": [
       "Text(0.5, 1.0, 'Avg. Of Price Based On Seller Type')"
      ]
     },
     "execution_count": 56,
     "metadata": {},
     "output_type": "execute_result"
    },
    {
     "data": {
      "image/png": "[encoded data removed]",
      "text/plain": [
       "<Figure size 432x288 with 1 Axes>"
      ]
     },
     "metadata": {
      "needs_background": "light"
     },
     "output_type": "display_data"
    }
   ],
   "source": [
    "pd.DataFrame(df.groupby(['seller_type'])['selling_price'].mean()).sort_values(by='selling_price',ascending=True).plot(kind='barh')\n",
    "plt.xlabel('Avg. Of Price')\n",
    "plt.ylabel('Saller Type')\n",
    "plt.title('Avg. Of Price Based On Seller Type')"
   ]
  },
  {
   "cell_type": "code",
   "execution_count": 57,
   "id": "c07fd907",
   "metadata": {},
   "outputs": [
    {
     "data": {
      "text/plain": [
       "Text(0.5, 1.0, 'Price Based on Type Of Transmission')"
      ]
     },
     "execution_count": 57,
     "metadata": {},
     "output_type": "execute_result"
    },
    {
     "data": {
      "image/png": "[encoded data removed]",
      "text/plain": [
       "<Figure size 432x288 with 1 Axes>"
      ]
     },
     "metadata": {
      "needs_background": "light"
     },
     "output_type": "display_data"
    }
   ],
   "source": [
    "pd.DataFrame(df.groupby(['transmission'])['selling_price'].mean()).sort_values(by='selling_price',ascending=True).plot(kind='barh', color = 'black')\n",
    "plt.xlabel('Avg. Of Price')\n",
    "plt.ylabel('Type Of Transmission')\n",
    "plt.title('Price Based on Type Of Transmission')"
   ]
  },
  {
   "cell_type": "code",
   "execution_count": 58,
   "id": "74273e18",
   "metadata": {},
   "outputs": [
    {
     "data": {
      "text/plain": [
       "<AxesSubplot:xlabel='seller_type', ylabel='selling_price'>"
      ]
     },
     "execution_count": 58,
     "metadata": {},
     "output_type": "execute_result"
    },
    {
     "data": {
      "image/png": "[encoded data removed]",
      "text/plain": [
       "<Figure size 432x288 with 1 Axes>"
      ]
     },
     "metadata": {
      "needs_background": "light"
     },
     "output_type": "display_data"
    }
   ],
   "source": [
    "# grouping results\n",
    "grouped = pd.DataFrame(df.groupby(['seller_type', 'transmission', 'fuel'],as_index=False)['selling_price'].mean())\n",
    "sns.barplot(x='seller_type', y='selling_price',hue='transmission' ,data=grouped)"
   ]
  },
  {
   "cell_type": "code",
   "execution_count": 59,
   "id": "5049594a",
   "metadata": {},
   "outputs": [
    {
     "data": {
      "text/plain": [
       "<AxesSubplot:xlabel='fuel', ylabel='selling_price'>"
      ]
     },
     "execution_count": 59,
     "metadata": {},
     "output_type": "execute_result"
    },
    {
     "data": {
      "image/png": "[encoded data removed]",
      "text/plain": [
       "<Figure size 432x288 with 1 Axes>"
      ]
     },
     "metadata": {
      "needs_background": "light"
     },
     "output_type": "display_data"
    }
   ],
   "source": [
    "sns.barplot(x='fuel', y='selling_price',hue='transmission' ,data=grouped)"
   ]
  },
  {
   "cell_type": "markdown",
   "id": "6bfb92cc",
   "metadata": {},
   "source": [
    "## Causation"
   ]
  },
  {
   "cell_type": "markdown",
   "id": "5e2bfc80",
   "metadata": {},
   "source": [
    "### year vs Price"
   ]
  },
  {
   "cell_type": "code",
   "execution_count": 60,
   "id": "c398d63a",
   "metadata": {},
   "outputs": [
    {
     "name": "stdout",
     "output_type": "stream",
     "text": [
      "The Pearson Correlation Coefficient is 0.41409186055715097 with a P-value of P = 0.0\n"
     ]
    }
   ],
   "source": [
    "# Let's calculate the Pearson Correlation Coefficient and P-value of 'year' and 'selling_price'.\n",
    "\n",
    "pearson_coef, p_value = stats.pearsonr(df['year'], df['selling_price'])\n",
    "print(\"The Pearson Correlation Coefficient is {} with a P-value of P = {}\".format(pearson_coef, p_value))  "
   ]
  },
  {
   "cell_type": "markdown",
   "id": "b6164f2d",
   "metadata": {},
   "source": [
    "### Owner VS Selling Price "
   ]
  },
  {
   "cell_type": "code",
   "execution_count": 61,
   "id": "a7b3ca65",
   "metadata": {},
   "outputs": [
    {
     "name": "stdout",
     "output_type": "stream",
     "text": [
      "The Pearson Correlation Coefficient is -0.24331626252537575 with a P-value of P = 7.486505897395631e-110\n"
     ]
    }
   ],
   "source": [
    "# Let's calculate the Pearson Correlation Coefficient and P-value of 'owenr' and 'selling_price'.\n",
    "\n",
    "pearson_coef, p_value = stats.pearsonr(df['owner'], df['selling_price'])\n",
    "print(\"The Pearson Correlation Coefficient is {} with a P-value of P = {}\".format(pearson_coef, p_value))  "
   ]
  },
  {
   "cell_type": "markdown",
   "id": "c1cdbb18",
   "metadata": {},
   "source": [
    "### Km Driven Vs Selling Price"
   ]
  },
  {
   "cell_type": "code",
   "execution_count": 62,
   "id": "c1e5bd20",
   "metadata": {},
   "outputs": [
    {
     "name": "stdout",
     "output_type": "stream",
     "text": [
      "The Pearson Correlation Coefficient is -0.22553375557218944 with a P-value of P = 2.988960331649652e-94\n"
     ]
    }
   ],
   "source": [
    "# Let's calculate the Pearson Correlation Coefficient and P-value of 'km_driven' and 'selling_price'.\n",
    "\n",
    "pearson_coef, p_value = stats.pearsonr(df['km_driven'], df['selling_price'])\n",
    "print(\"The Pearson Correlation Coefficient is {} with a P-value of P = {}\".format(pearson_coef, p_value))  "
   ]
  },
  {
   "cell_type": "markdown",
   "id": "0e4cdb63",
   "metadata": {},
   "source": [
    "### Maximum Power (bnb) Vs Selling Price"
   ]
  },
  {
   "cell_type": "code",
   "execution_count": 63,
   "id": "5a39f5f9",
   "metadata": {},
   "outputs": [
    {
     "name": "stdout",
     "output_type": "stream",
     "text": [
      "The Pearson Correlation Coefficient is 0.7449581962374776 with a P-value of P = 0.0\n"
     ]
    }
   ],
   "source": [
    "# Let's calculate the Pearson Correlation Coefficient and P-value of 'max_power_bnb' and 'selling_price'.\n",
    "\n",
    "pearson_coef, p_value = stats.pearsonr(df['max_power_bnb'], df['selling_price'])\n",
    "print(\"The Pearson Correlation Coefficient is {} with a P-value of P = {}\".format(pearson_coef, p_value))  "
   ]
  },
  {
   "cell_type": "markdown",
   "id": "eeabd1ff",
   "metadata": {},
   "source": [
    "### Engine (CC) Vs Selling Price"
   ]
  },
  {
   "cell_type": "code",
   "execution_count": 64,
   "id": "9a7dfeb5",
   "metadata": {},
   "outputs": [
    {
     "name": "stdout",
     "output_type": "stream",
     "text": [
      "The Pearson Correlation Coefficient is 0.4583447725283301 with a P-value of P = 0.0\n"
     ]
    }
   ],
   "source": [
    "# Let's calculate the Pearson Correlation Coefficient and P-value of 'engine_CC' and 'selling_price'.\n",
    "\n",
    "pearson_coef, p_value = stats.pearsonr(df['engine_CC'], df['selling_price'])\n",
    "print(\"The Pearson Correlation Coefficient is {} with a P-value of P = {}\".format(pearson_coef, p_value))  "
   ]
  },
  {
   "cell_type": "markdown",
   "id": "84a0fd6e",
   "metadata": {},
   "source": [
    "### Seats Vs Selling Price"
   ]
  },
  {
   "cell_type": "code",
   "execution_count": 65,
   "id": "444a59de",
   "metadata": {},
   "outputs": [
    {
     "name": "stdout",
     "output_type": "stream",
     "text": [
      "The Pearson Correlation Coefficient is 0.047134566280788506 with a P-value of P = 2.126796222493106e-05\n"
     ]
    }
   ],
   "source": [
    "# Let's calculate the Pearson Correlation Coefficient and P-value of 'seats' and 'selling_price'.\n",
    "\n",
    "pearson_coef, p_value = stats.pearsonr(df['seats'], df['selling_price'])\n",
    "print(\"The Pearson Correlation Coefficient is {} with a P-value of P = {}\".format(pearson_coef, p_value))  "
   ]
  },
  {
   "cell_type": "markdown",
   "id": "f6eca3aa",
   "metadata": {},
   "source": [
    "### mileage_Kmpl Vs Selling Price"
   ]
  },
  {
   "cell_type": "code",
   "execution_count": 66,
   "id": "792d66a1",
   "metadata": {},
   "outputs": [
    {
     "name": "stdout",
     "output_type": "stream",
     "text": [
      "The Pearson Correlation Coefficient is -0.12545398424289766 with a P-value of P = 7.125480555837441e-30\n"
     ]
    }
   ],
   "source": [
    "# Let's calculate the Pearson Correlation Coefficient and P-value of 'mileage_Kmpl' and 'selling_price'.\n",
    "\n",
    "pearson_coef, p_value = stats.pearsonr(df['mileage_Kmpl'], df['selling_price'])\n",
    "print(\"The Pearson Correlation Coefficient is {} with a P-value of P = {}\".format(pearson_coef, p_value))  "
   ]
  },
  {
   "cell_type": "markdown",
   "id": "fe050079",
   "metadata": {},
   "source": [
    "# ANOVA"
   ]
  },
  {
   "cell_type": "code",
   "execution_count": 67,
   "id": "4556e4ab",
   "metadata": {},
   "outputs": [],
   "source": [
    "#group_transmation  = pd.DataFrame(df3.groupby(['transmission', 'fuel'], as_index = False)['selling_price'].mean())\n",
    "#group_transmation.index.names = ['transmission', 'fuel']\n",
    "#group_transmation.columns = ['price']"
   ]
  },
  {
   "cell_type": "code",
   "execution_count": 68,
   "id": "d594989e",
   "metadata": {},
   "outputs": [],
   "source": [
    "#preper data to ANOVA\n",
    "group= df[['transmission', 'fuel', 'selling_price']]\n",
    "group1 = group.groupby(['transmission', 'fuel'],as_index=False).mean()\n",
    "group2 = group[['fuel','selling_price']].groupby(['fuel'])"
   ]
  },
  {
   "cell_type": "code",
   "execution_count": 69,
   "id": "dcaa7bae",
   "metadata": {},
   "outputs": [
    {
     "data": {
      "text/plain": [
       "2       158000\n",
       "4       130000\n",
       "5       440000\n",
       "7        45000\n",
       "11       92000\n",
       "         ...  \n",
       "8118    380000\n",
       "8119    360000\n",
       "8120    120000\n",
       "8121    260000\n",
       "8123    320000\n",
       "Name: selling_price, Length: 3631, dtype: int64"
      ]
     },
     "execution_count": 69,
     "metadata": {},
     "output_type": "execute_result"
    }
   ],
   "source": [
    "group2.get_group('Petrol')['selling_price']"
   ]
  },
  {
   "cell_type": "code",
   "execution_count": 70,
   "id": "f619d722",
   "metadata": {},
   "outputs": [
    {
     "name": "stdout",
     "output_type": "stream",
     "text": [
      "ANOVA results: F= 122.88062883888716 , P = 7.768067697277526e-78\n"
     ]
    }
   ],
   "source": [
    "# ANOVA\n",
    "f_val, p_val = stats.f_oneway(group2.get_group('Petrol')['selling_price'], group2.get_group('Diesel')['selling_price'], group2.get_group('CNG')['selling_price'], group2.get_group('LPG')['selling_price'])  \n",
    " \n",
    "print( \"ANOVA results: F=\", f_val, \", P =\", p_val)   "
   ]
  },
  {
   "cell_type": "markdown",
   "id": "769d6f66",
   "metadata": {},
   "source": [
    "This is a great result, with a large F test score showing a strong correlation and a P value of almost 0 implying almost certain statistical significance. But does this mean all four tested groups are all this highly correlated? \n"
   ]
  },
  {
   "cell_type": "markdown",
   "id": "89af384b",
   "metadata": {},
   "source": [
    "###### Separately Two goups Petrol, Diesel"
   ]
  },
  {
   "cell_type": "code",
   "execution_count": 71,
   "id": "30557cc5",
   "metadata": {},
   "outputs": [
    {
     "name": "stdout",
     "output_type": "stream",
     "text": [
      "ANOVA results: F= 342.352595763539 , P = 6.957773203366255e-75\n"
     ]
    }
   ],
   "source": [
    "# ANOVA\n",
    "f_val, p_val = stats.f_oneway(group2.get_group('Petrol')['selling_price'], group2.get_group('Diesel')['selling_price'])  \n",
    " \n",
    "print( \"ANOVA results: F=\", f_val, \", P =\", p_val)   "
   ]
  },
  {
   "cell_type": "markdown",
   "id": "b1bed7b9",
   "metadata": {},
   "source": [
    "Two subgroup of transmission ( Petrol, Diesel) with a large F test score showing a strong correlation and a P value of almost 0 implying almost certain statistical significance "
   ]
  },
  {
   "cell_type": "markdown",
   "id": "96e9d092",
   "metadata": {},
   "source": [
    "###### Separately Two goups CNG, LPG"
   ]
  },
  {
   "cell_type": "code",
   "execution_count": 72,
   "id": "11ee370a",
   "metadata": {},
   "outputs": [
    {
     "name": "stdout",
     "output_type": "stream",
     "text": [
      "ANOVA results: F= 22.257506776219568 , P = 8.376845574671528e-06\n"
     ]
    }
   ],
   "source": [
    "f_val, p_val = stats.f_oneway( group2.get_group('CNG')['selling_price'], group2.get_group('LPG')['selling_price'])  \n",
    " \n",
    "print( \"ANOVA results: F=\", f_val, \", P =\", p_val)   "
   ]
  },
  {
   "cell_type": "markdown",
   "id": "c6941791",
   "metadata": {},
   "source": [
    "Two subgroup of transmission(CNG, LPG) with a large F test score showing a strong correlation and a P value of almost 0 implying almost certain statistical significance but less than other Petrol, Diesel"
   ]
  },
  {
   "cell_type": "markdown",
   "id": "a87468ed",
   "metadata": {},
   "source": [
    "## Conclusion: Important Variables\n",
    "\n",
    "\n",
    "\n",
    "#### 1- Continuous numerical variables\n",
    "* year\n",
    "* selling_price\t\n",
    "* km_driven\n",
    "* owner\tseats\n",
    "* engine_CC\n",
    "* mileage_Kmpl\n",
    "* max_power_bnb\n",
    "\n",
    "#### 2- Categorical variables:\n",
    "\n",
    "* Fuel \n",
    "* transmission"
   ]
  },
  {
   "cell_type": "markdown",
   "id": "4d38fff8",
   "metadata": {},
   "source": [
    "### Model Development \n",
    "\n",
    "\n",
    "**Some questions we want to ask in this module**\n",
    "1. Do I know if the dealer is offering fair value for my trade-in?\n",
    "2. Do I know if I put a fair value on my car?\n",
    "\n",
    "\n",
    "\n",
    "Data Analytics, we often use Model Development to help us predict future observations from the data we have.\n",
    "\n",
    "A Model will help us understand the exact relationship between different variables and how these variables are used to predict the result.\n"
   ]
  },
  {
   "cell_type": "markdown",
   "id": "4748dbdf",
   "metadata": {},
   "source": [
    "# Creating Dummies Variable"
   ]
  },
  {
   "cell_type": "code",
   "execution_count": 73,
   "id": "38d1de62",
   "metadata": {},
   "outputs": [
    {
     "name": "stdout",
     "output_type": "stream",
     "text": [
      "      year  selling_price  km_driven    fuel seller_type  owner     seats  \\\n",
      "0     2014         450000   0.061641  Diesel  Individual   0.25  0.357143   \n",
      "1     2014         370000   0.050838  Diesel  Individual   0.50  0.357143   \n",
      "2     2006         158000   0.059311  Petrol  Individual   0.75  0.357143   \n",
      "3     2010         225000   0.053803  Diesel  Individual   0.25  0.357143   \n",
      "4     2007         130000   0.050838  Petrol  Individual   0.25  0.357143   \n",
      "...    ...            ...        ...     ...         ...    ...       ...   \n",
      "8123  2013         320000   0.046601  Petrol  Individual   0.25  0.357143   \n",
      "8124  2007         135000   0.050414  Diesel  Individual   1.00  0.357143   \n",
      "8125  2009         382000   0.050838  Diesel  Individual   0.25  0.357143   \n",
      "8126  2013         290000   0.010591  Diesel  Individual   0.25  0.357143   \n",
      "8127  2013         290000   0.010591  Diesel  Individual   0.25  0.357143   \n",
      "\n",
      "      engine_CC  mileage_Kmpl  max_power_bnb max_power_binned  \\\n",
      "0      0.346282      0.557143       0.185000              Low   \n",
      "1      0.415649      0.503333       0.258800              Low   \n",
      "2      0.415372      0.421429       0.195000              Low   \n",
      "3      0.387347      0.547619       0.225000              Low   \n",
      "4      0.360155      0.383333       0.220500              Low   \n",
      "...         ...           ...            ...              ...   \n",
      "8123   0.332131      0.440476       0.207125              Low   \n",
      "8124   0.414262      0.400000       0.275000              Low   \n",
      "8125   0.346282      0.459524       0.184750              Low   \n",
      "8126   0.387347      0.561190       0.175000              Low   \n",
      "8127   0.387347      0.561190       0.175000              Low   \n",
      "\n",
      "      transmission_Manual  \n",
      "0                       1  \n",
      "1                       1  \n",
      "2                       1  \n",
      "3                       1  \n",
      "4                       1  \n",
      "...                   ...  \n",
      "8123                    1  \n",
      "8124                    1  \n",
      "8125                    1  \n",
      "8126                    1  \n",
      "8127                    1  \n",
      "\n",
      "[8128 rows x 12 columns]\n"
     ]
    }
   ],
   "source": [
    "#convert categorical values\n",
    "df = pd.get_dummies(df, columns=['transmission'], drop_first=True)\n",
    "print(df)"
   ]
  },
  {
   "cell_type": "markdown",
   "id": "5675d17c",
   "metadata": {},
   "source": [
    "## Develop prediction models\n",
    "### 1- Using Linear Regression"
   ]
  },
  {
   "cell_type": "code",
   "execution_count": 74,
   "id": "24d411e2",
   "metadata": {},
   "outputs": [],
   "source": [
    "# separate data to features and target\n",
    "X = df[['max_power_bnb']]\n",
    "y = df[['selling_price']]"
   ]
  },
  {
   "cell_type": "code",
   "execution_count": 75,
   "id": "df4477a7",
   "metadata": {},
   "outputs": [],
   "source": [
    "#split data to train and test data\n",
    "X_train, X_test, y_train, y_test = train_test_split(X,y ,\n",
    "                                   random_state=42, \n",
    "                                   test_size=0.4, \n",
    "                                   shuffle=True)"
   ]
  },
  {
   "cell_type": "code",
   "execution_count": 76,
   "id": "b8ca9acc",
   "metadata": {},
   "outputs": [
    {
     "data": {
      "text/plain": [
       "LinearRegression()"
      ]
     },
     "execution_count": 76,
     "metadata": {},
     "output_type": "execute_result"
    }
   ],
   "source": [
    "# create model and fit train data\n",
    "reg = LinearRegression()\n",
    "reg.fit(X_train, y_train)"
   ]
  },
  {
   "cell_type": "code",
   "execution_count": 77,
   "id": "85b59f33",
   "metadata": {},
   "outputs": [
    {
     "data": {
      "text/plain": [
       "array([-894752.33893686])"
      ]
     },
     "execution_count": 77,
     "metadata": {},
     "output_type": "execute_result"
    }
   ],
   "source": [
    " #show intercept of equation\n",
    "reg.intercept_"
   ]
  },
  {
   "cell_type": "code",
   "execution_count": 78,
   "id": "29c9a1e3",
   "metadata": {},
   "outputs": [
    {
     "data": {
      "text/plain": [
       "array([[6701474.89634684]])"
      ]
     },
     "execution_count": 78,
     "metadata": {},
     "output_type": "execute_result"
    }
   ],
   "source": [
    "#show coefficient of equation\n",
    "reg.coef_"
   ]
  },
  {
   "cell_type": "code",
   "execution_count": 79,
   "id": "27522c8d",
   "metadata": {},
   "outputs": [
    {
     "data": {
      "text/plain": [
       "0.5414896258926741"
      ]
     },
     "execution_count": 79,
     "metadata": {},
     "output_type": "execute_result"
    }
   ],
   "source": [
    "#show score of model on train data\n",
    "reg.score(X_train, y_train)"
   ]
  },
  {
   "cell_type": "code",
   "execution_count": 80,
   "id": "0193fbe2",
   "metadata": {},
   "outputs": [
    {
     "data": {
      "text/plain": [
       "array([[ 780616.38514984],\n",
       "       [1418931.86902688],\n",
       "       [ 344015.29565285]])"
      ]
     },
     "execution_count": 80,
     "metadata": {},
     "output_type": "execute_result"
    }
   ],
   "source": [
    "Y_hat = reg.predict(X_test)\n",
    "Y_hat[:3]"
   ]
  },
  {
   "cell_type": "markdown",
   "id": "b3e3ae01",
   "metadata": {},
   "source": [
    "### Prediction Model"
   ]
  },
  {
   "cell_type": "code",
   "execution_count": 81,
   "id": "4e182636",
   "metadata": {},
   "outputs": [],
   "source": [
    "Y_hat = reg.predict(X_test)"
   ]
  },
  {
   "cell_type": "markdown",
   "id": "3c5e3a0a",
   "metadata": {},
   "source": [
    "### Evaluate Model"
   ]
  },
  {
   "cell_type": "code",
   "execution_count": 82,
   "id": "3058aa73",
   "metadata": {},
   "outputs": [
    {
     "data": {
      "text/plain": [
       "292598853724.4558"
      ]
     },
     "execution_count": 82,
     "metadata": {},
     "output_type": "execute_result"
    }
   ],
   "source": [
    "# calculate MSE \n",
    "mean_squared_error( y_test, Y_hat)"
   ]
  },
  {
   "cell_type": "markdown",
   "id": "b62c6f30",
   "metadata": {},
   "source": [
    "# Use Multiple Linear Regression"
   ]
  },
  {
   "cell_type": "code",
   "execution_count": 83,
   "id": "31492c43",
   "metadata": {},
   "outputs": [],
   "source": [
    "# separate data to features and target\n",
    "X = df[['year', 'max_power_bnb', 'engine_CC','transmission_Manual']]\n",
    "y = df[['selling_price']]"
   ]
  },
  {
   "cell_type": "code",
   "execution_count": 84,
   "id": "ffa64a51",
   "metadata": {},
   "outputs": [],
   "source": [
    "#split data to train and test data\n",
    "X_train, X_test, y_train, y_test = train_test_split(X,y ,\n",
    "                                   random_state=42, \n",
    "                                   test_size=0.4, \n",
    "                                   shuffle=True)"
   ]
  },
  {
   "cell_type": "code",
   "execution_count": 85,
   "id": "2d67ebcf",
   "metadata": {},
   "outputs": [
    {
     "data": {
      "text/plain": [
       "LinearRegression()"
      ]
     },
     "execution_count": 85,
     "metadata": {},
     "output_type": "execute_result"
    }
   ],
   "source": [
    "# create model and fit train data\n",
    "reg = LinearRegression()\n",
    "reg.fit(X_train, y_train)"
   ]
  },
  {
   "cell_type": "code",
   "execution_count": 86,
   "id": "749e204d",
   "metadata": {},
   "outputs": [
    {
     "data": {
      "text/plain": [
       "array([-92958243.93143155])"
      ]
     },
     "execution_count": 86,
     "metadata": {},
     "output_type": "execute_result"
    }
   ],
   "source": [
    " #show intercept of equation\n",
    "reg.intercept_"
   ]
  },
  {
   "cell_type": "code",
   "execution_count": 87,
   "id": "537d9556",
   "metadata": {},
   "outputs": [
    {
     "data": {
      "text/plain": [
       "array([[  46148.08016691, 5283321.06707051, -178294.81531198,\n",
       "        -542965.16034444]])"
      ]
     },
     "execution_count": 87,
     "metadata": {},
     "output_type": "execute_result"
    }
   ],
   "source": [
    "#show coefficient of equation\n",
    "reg.coef_"
   ]
  },
  {
   "cell_type": "code",
   "execution_count": 88,
   "id": "ad13d262",
   "metadata": {},
   "outputs": [
    {
     "data": {
      "text/plain": [
       "0.6484636261684696"
      ]
     },
     "execution_count": 88,
     "metadata": {},
     "output_type": "execute_result"
    }
   ],
   "source": [
    "#show score of model on train data\n",
    "reg.score(X_train, y_train)"
   ]
  },
  {
   "cell_type": "code",
   "execution_count": 89,
   "id": "0288ea7c",
   "metadata": {},
   "outputs": [
    {
     "data": {
      "text/plain": [
       "array([[ 226513.074974  ],\n",
       "       [1157292.84887427],\n",
       "       [ 448202.15495995]])"
      ]
     },
     "execution_count": 89,
     "metadata": {},
     "output_type": "execute_result"
    }
   ],
   "source": [
    "Y_hat = reg.predict(X_test)\n",
    "Y_hat[:3]"
   ]
  },
  {
   "cell_type": "code",
   "execution_count": 90,
   "id": "675d86b6",
   "metadata": {},
   "outputs": [],
   "source": [
    "#show score of fitting data to model\n",
    "#reg.score(y_test, Y_hat)"
   ]
  },
  {
   "cell_type": "markdown",
   "id": "005726e9",
   "metadata": {},
   "source": [
    "### Prediction of MLR Model"
   ]
  },
  {
   "cell_type": "code",
   "execution_count": 91,
   "id": "abd68fa2",
   "metadata": {},
   "outputs": [],
   "source": [
    "#predict selling price \n",
    "Y_hat = reg.predict(X_test)"
   ]
  },
  {
   "cell_type": "markdown",
   "id": "b6660a4a",
   "metadata": {},
   "source": [
    "### Evaluate Model "
   ]
  },
  {
   "cell_type": "code",
   "execution_count": 92,
   "id": "d7990973",
   "metadata": {},
   "outputs": [
    {
     "data": {
      "text/plain": [
       "226614759251.57318"
      ]
     },
     "execution_count": 92,
     "metadata": {},
     "output_type": "execute_result"
    }
   ],
   "source": [
    "# calculate MSE \n",
    "mean_squared_error( y_test, Y_hat)"
   ]
  },
  {
   "cell_type": "code",
   "execution_count": 93,
   "id": "06dc187b",
   "metadata": {},
   "outputs": [
    {
     "name": "stderr",
     "output_type": "stream",
     "text": [
      "C:\\Users\\Omnia Hosny\\anaconda3\\lib\\site-packages\\seaborn\\distributions.py:2557: FutureWarning: `distplot` is a deprecated function and will be removed in a future version. Please adapt your code to use either `displot` (a figure-level function with similar flexibility) or `kdeplot` (an axes-level function for kernel density plots).\n",
      "  warnings.warn(msg, FutureWarning)\n",
      "C:\\Users\\Omnia Hosny\\anaconda3\\lib\\site-packages\\seaborn\\distributions.py:2557: FutureWarning: `distplot` is a deprecated function and will be removed in a future version. Please adapt your code to use either `displot` (a figure-level function with similar flexibility) or `kdeplot` (an axes-level function for kernel density plots).\n",
      "  warnings.warn(msg, FutureWarning)\n"
     ]
    },
    {
     "data": {
      "image/png": "[encoded data removed]",
      "text/plain": [
       "<Figure size 1008x864 with 1 Axes>"
      ]
     },
     "metadata": {
      "needs_background": "light"
     },
     "output_type": "display_data"
    }
   ],
   "source": [
    "width = 14\n",
    "height = 12\n",
    "plt.figure(figsize=(width, height))\n",
    "\n",
    "\n",
    "ax1 = sns.distplot(df['selling_price'], hist=False, color=\"r\", label=\"Actual Value\")\n",
    "sns.distplot(Y_hat, hist=False, color=\"b\", label=\"Fitted Values\" , ax=ax1)\n",
    "\n",
    "\n",
    "plt.title('Actual vs Fitted Values for Price')\n",
    "plt.xlabel('Price (in dollars)')\n",
    "plt.ylabel('Proportion of Cars')\n",
    "\n",
    "plt.show()\n",
    "plt.close()"
   ]
  },
  {
   "cell_type": "markdown",
   "id": "d05afd93",
   "metadata": {},
   "source": [
    "### Use Polynomial Regression and Pipelines"
   ]
  },
  {
   "cell_type": "code",
   "execution_count": 94,
   "id": "547df878",
   "metadata": {},
   "outputs": [
    {
     "data": {
      "text/plain": [
       "PolynomialFeatures(degree=4)"
      ]
     },
     "execution_count": 94,
     "metadata": {},
     "output_type": "execute_result"
    }
   ],
   "source": [
    "# we create a ploy feature of degree 4\n",
    "p_features = PolynomialFeatures(degree=4)\n",
    "p_features"
   ]
  },
  {
   "cell_type": "code",
   "execution_count": 95,
   "id": "33b966a9",
   "metadata": {},
   "outputs": [],
   "source": [
    "# transform features\n",
    "p_train=p_features.fit_transform(X_train)"
   ]
  },
  {
   "cell_type": "code",
   "execution_count": 96,
   "id": "7761db54",
   "metadata": {},
   "outputs": [
    {
     "data": {
      "text/plain": [
       "(4876, 4)"
      ]
     },
     "execution_count": 96,
     "metadata": {},
     "output_type": "execute_result"
    }
   ],
   "source": [
    "# shape of data before create polynomial feature\n",
    "X_train.shape"
   ]
  },
  {
   "cell_type": "code",
   "execution_count": 97,
   "id": "a5608f99",
   "metadata": {},
   "outputs": [
    {
     "data": {
      "text/plain": [
       "(4876, 70)"
      ]
     },
     "execution_count": 97,
     "metadata": {},
     "output_type": "execute_result"
    }
   ],
   "source": [
    "# shape of data after create polynomial feature\n",
    "p_train.shape"
   ]
  },
  {
   "cell_type": "code",
   "execution_count": 98,
   "id": "7903e1c7",
   "metadata": {},
   "outputs": [
    {
     "name": "stdout",
     "output_type": "stream",
     "text": [
      "           2\n",
      "1.596e+07 x - 2.82e+06 x + 3.237e+05\n"
     ]
    }
   ],
   "source": [
    "x = df['max_power_bnb']\n",
    "y = df['selling_price']\n",
    "f = np.polyfit(x, y, 2)\n",
    "p = np.poly1d(f)\n",
    "print(p)"
   ]
  },
  {
   "cell_type": "code",
   "execution_count": 99,
   "id": "4d7c574e",
   "metadata": {},
   "outputs": [
    {
     "name": "stdout",
     "output_type": "stream",
     "text": [
      "The R-square value is:  0.6329551972845806\n"
     ]
    }
   ],
   "source": [
    "# calculate R-square\n",
    "r_squared = r2_score(y, p(x))\n",
    "print('The R-square value is: ', r_squared)"
   ]
  },
  {
   "cell_type": "code",
   "execution_count": 100,
   "id": "4d6eed61",
   "metadata": {},
   "outputs": [
    {
     "data": {
      "text/plain": [
       "238566119098.2901"
      ]
     },
     "execution_count": 100,
     "metadata": {},
     "output_type": "execute_result"
    }
   ],
   "source": [
    "#calculate Mean Squared Error\n",
    "mean_squared_error(df['selling_price'], p(x))"
   ]
  },
  {
   "cell_type": "code",
   "execution_count": 101,
   "id": "2d7273a7",
   "metadata": {},
   "outputs": [],
   "source": [
    "# create \n",
    "def PlotPolly(model, ind_var, dep_var, degree):\n",
    "    x_new = np.linspace(15, 55, 100)\n",
    "    y_new = model(x_new)\n",
    "\n",
    "    plt.plot(ind_var, dep_var, '.', x_new, y_new, '-')\n",
    "    plt.title('Polynomial Fit for Selling Price')\n",
    "    ax = plt.gca()\n",
    "    ax.set_facecolor((0.898, 0.898, 0.898))\n",
    "    fig = plt.gcf()\n",
    "    plt.xlabel(degree)\n",
    "    plt.ylabel('Selling Price')\n",
    "\n",
    "    plt.show()\n",
    "    plt.close()"
   ]
  },
  {
   "cell_type": "code",
   "execution_count": 102,
   "id": "57d2045a",
   "metadata": {},
   "outputs": [
    {
     "data": {
      "image/png": "[encoded data removed]",
      "text/plain": [
       "<Figure size 432x288 with 1 Axes>"
      ]
     },
     "metadata": {
      "needs_background": "light"
     },
     "output_type": "display_data"
    }
   ],
   "source": [
    "PlotPolly(p, x, y, 'Max pwer')"
   ]
  },
  {
   "cell_type": "code",
   "execution_count": 103,
   "id": "1dc55b4d",
   "metadata": {},
   "outputs": [],
   "source": [
    "Input=([('scale',StandardScaler()), ('polynomial', PolynomialFeatures(include_bias=False)), ('model',LinearRegression())])"
   ]
  },
  {
   "cell_type": "code",
   "execution_count": 104,
   "id": "d492a44b",
   "metadata": {},
   "outputs": [
    {
     "data": {
      "text/plain": [
       "Pipeline(steps=[('scale', StandardScaler()),\n",
       "                ('polynomial', PolynomialFeatures(include_bias=False)),\n",
       "                ('model', LinearRegression())],\n",
       "         verbose=True)"
      ]
     },
     "execution_count": 104,
     "metadata": {},
     "output_type": "execute_result"
    }
   ],
   "source": [
    "pipe=Pipeline(Input,verbose=True)\n",
    "pipe"
   ]
  },
  {
   "cell_type": "code",
   "execution_count": 105,
   "id": "e6cab987",
   "metadata": {},
   "outputs": [
    {
     "name": "stdout",
     "output_type": "stream",
     "text": [
      "[Pipeline] ............. (step 1 of 3) Processing scale, total=   0.0s\n",
      "[Pipeline] ........ (step 2 of 3) Processing polynomial, total=   0.0s\n",
      "[Pipeline] ............. (step 3 of 3) Processing model, total=   0.0s\n"
     ]
    },
    {
     "data": {
      "text/plain": [
       "Pipeline(steps=[('scale', StandardScaler()),\n",
       "                ('polynomial', PolynomialFeatures(include_bias=False)),\n",
       "                ('model', LinearRegression())],\n",
       "         verbose=True)"
      ]
     },
     "execution_count": 105,
     "metadata": {},
     "output_type": "execute_result"
    }
   ],
   "source": [
    "pipe.fit(X_train,y_train)"
   ]
  },
  {
   "cell_type": "code",
   "execution_count": 106,
   "id": "25c8ca7d",
   "metadata": {
    "scrolled": false
   },
   "outputs": [
    {
     "data": {
      "text/plain": [
       "array([[-74256.],\n",
       "       [846884.],\n",
       "       [455404.],\n",
       "       [ 22692.]])"
      ]
     },
     "execution_count": 106,
     "metadata": {},
     "output_type": "execute_result"
    }
   ],
   "source": [
    "ypipe=pipe.predict(X_test)\n",
    "ypipe[0:4]"
   ]
  },
  {
   "cell_type": "markdown",
   "id": "f4d0b5a6",
   "metadata": {},
   "source": [
    "### Decision Making\n",
    "\n",
    "\n",
    "\n",
    "\n",
    "<p>When comparing models, <b>the model with the smallest MSE value is a better fit</b> for the data.</p>\n",
    "\n",
    "<h4>Let's take a look at the values for the different models.</h4>\n",
    "<p>Simple Linear Regression: Using Max Power as a Predictor Variable of Price.\n",
    "<ul>\n",
    "    <li>R-squared: 0.5414896258926741</li>\n",
    "    <li>MSE: 292598853724.4558</li>\n",
    "</ul>\n",
    "</p>\n",
    "    \n",
    "<p>Multiple Linear Regression: Using 'year', 'max_power_bnb', 'engine_CC' and 'transmission_Manual' as Predictor Variables of Price.\n",
    "<ul>\n",
    "    <li>R-squared: 0.6484636261684696 </li>\n",
    "    <li>MSE: 226614759251.57318</li>\n",
    "</ul>\n",
    "</p>\n",
    "    \n",
    "<p>Polynomial Fit: Using Max Power as a Predictor Variable of Price.\n",
    "<ul>\n",
    "    <li>R-squared: 0.6329551972845806</li>\n",
    "    <li>MSE: 238566119098.2901</li>\n",
    "</ul>\n",
    "</p>\n"
   ]
  },
  {
   "cell_type": "markdown",
   "id": "87cb7146",
   "metadata": {},
   "source": [
    "## Conclusion\n",
    "\n",
    "Comparing these three models, we conclude that the Polynomial model is the best model to be able to predict price from our dataset, and we know that more than one of those variables are potential predictors of the final car price."
   ]
  }
 ],
 "metadata": {
  "kernelspec": {
   "display_name": "Python 3 (ipykernel)",
   "language": "python",
   "name": "python3"
  },
  "language_info": {
   "codemirror_mode": {
    "name": "ipython",
    "version": 3
   },
   "file_extension": ".py",
   "mimetype": "text/x-python",
   "name": "python",
   "nbconvert_exporter": "python",
   "pygments_lexer": "ipython3",
   "version": "3.8.8"
  }
 },
 "nbformat": 4,
 "nbformat_minor": 5
}
